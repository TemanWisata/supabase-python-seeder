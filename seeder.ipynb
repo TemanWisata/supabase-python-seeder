{
 "cells": [
  {
   "cell_type": "code",
   "execution_count": 62,
   "id": "b6879ac3",
   "metadata": {},
   "outputs": [],
   "source": [
    "import glob\n",
    "from pprint import pprint\n",
    "from pathlib import Path\n",
    "import string\n",
    "import random\n",
    "\n",
    "import pandas as pd\n",
    "from argon2 import PasswordHasher\n",
    "from faker import Faker\n",
    "\n",
    "from config import CONFIG\n",
    "from utils import Utils"
   ]
  },
  {
   "cell_type": "code",
   "execution_count": 67,
   "id": "da7f00f8",
   "metadata": {},
   "outputs": [
    {
     "name": "stdout",
     "output_type": "stream",
     "text": [
      "(\"Datasets:[PosixPath('datasets/aprabowo/indonesia-tourism-destination/versions/1/package_tourism.csv'), \"\n",
      " \"PosixPath('datasets/aprabowo/indonesia-tourism-destination/versions/1/tourism_rating.csv'), \"\n",
      " \"PosixPath('datasets/aprabowo/indonesia-tourism-destination/versions/1/user.csv'), \"\n",
      " \"PosixPath('datasets/aprabowo/indonesia-tourism-destination/versions/1/tourism_with_id.csv')]\")\n"
     ]
    }
   ],
   "source": [
    "DATASET_PATH = str((\"datasets/*/*/*/*/*\"))\n",
    "datasets = list(map(lambda x: Path(x), glob.glob(DATASET_PATH)))\n",
    "\n",
    "pprint(f\"Datasets:{datasets}\")"
   ]
  },
  {
   "cell_type": "code",
   "execution_count": 68,
   "id": "6c53bf4c",
   "metadata": {},
   "outputs": [
    {
     "name": "stdout",
     "output_type": "stream",
     "text": [
      "dict_keys(['package_tourism', 'tourism_rating', 'user', 'tourism_with_id'])\n"
     ]
    }
   ],
   "source": [
    "df = {data_path.stem: pd.read_csv(data_path) for data_path in datasets}\n",
    "print(df.keys())"
   ]
  },
  {
   "cell_type": "markdown",
   "id": "822f3079",
   "metadata": {},
   "source": [
    "## User Data"
   ]
  },
  {
   "cell_type": "code",
   "execution_count": 69,
   "id": "70fea7cd",
   "metadata": {},
   "outputs": [
    {
     "data": {
      "application/vnd.microsoft.datawrangler.viewer.v0+json": {
       "columns": [
        {
         "name": "index",
         "rawType": "int64",
         "type": "integer"
        },
        {
         "name": "User_Id",
         "rawType": "int64",
         "type": "integer"
        },
        {
         "name": "Location",
         "rawType": "object",
         "type": "string"
        },
        {
         "name": "Age",
         "rawType": "int64",
         "type": "integer"
        }
       ],
       "ref": "e0848995-2c5b-4fdf-bd55-6378f728d5b3",
       "rows": [
        [
         "0",
         "1",
         "Semarang, Jawa Tengah",
         "20"
        ],
        [
         "1",
         "2",
         "Bekasi, Jawa Barat",
         "21"
        ],
        [
         "2",
         "3",
         "Cirebon, Jawa Barat",
         "23"
        ],
        [
         "3",
         "4",
         "Bekasi, Jawa Barat",
         "21"
        ],
        [
         "4",
         "5",
         "Lampung, Sumatera Selatan",
         "20"
        ]
       ],
       "shape": {
        "columns": 3,
        "rows": 5
       }
      },
      "text/html": [
       "<div>\n",
       "<style scoped>\n",
       "    .dataframe tbody tr th:only-of-type {\n",
       "        vertical-align: middle;\n",
       "    }\n",
       "\n",
       "    .dataframe tbody tr th {\n",
       "        vertical-align: top;\n",
       "    }\n",
       "\n",
       "    .dataframe thead th {\n",
       "        text-align: right;\n",
       "    }\n",
       "</style>\n",
       "<table border=\"1\" class=\"dataframe\">\n",
       "  <thead>\n",
       "    <tr style=\"text-align: right;\">\n",
       "      <th></th>\n",
       "      <th>User_Id</th>\n",
       "      <th>Location</th>\n",
       "      <th>Age</th>\n",
       "    </tr>\n",
       "  </thead>\n",
       "  <tbody>\n",
       "    <tr>\n",
       "      <th>0</th>\n",
       "      <td>1</td>\n",
       "      <td>Semarang, Jawa Tengah</td>\n",
       "      <td>20</td>\n",
       "    </tr>\n",
       "    <tr>\n",
       "      <th>1</th>\n",
       "      <td>2</td>\n",
       "      <td>Bekasi, Jawa Barat</td>\n",
       "      <td>21</td>\n",
       "    </tr>\n",
       "    <tr>\n",
       "      <th>2</th>\n",
       "      <td>3</td>\n",
       "      <td>Cirebon, Jawa Barat</td>\n",
       "      <td>23</td>\n",
       "    </tr>\n",
       "    <tr>\n",
       "      <th>3</th>\n",
       "      <td>4</td>\n",
       "      <td>Bekasi, Jawa Barat</td>\n",
       "      <td>21</td>\n",
       "    </tr>\n",
       "    <tr>\n",
       "      <th>4</th>\n",
       "      <td>5</td>\n",
       "      <td>Lampung, Sumatera Selatan</td>\n",
       "      <td>20</td>\n",
       "    </tr>\n",
       "  </tbody>\n",
       "</table>\n",
       "</div>"
      ],
      "text/plain": [
       "   User_Id                   Location  Age\n",
       "0        1      Semarang, Jawa Tengah   20\n",
       "1        2         Bekasi, Jawa Barat   21\n",
       "2        3        Cirebon, Jawa Barat   23\n",
       "3        4         Bekasi, Jawa Barat   21\n",
       "4        5  Lampung, Sumatera Selatan   20"
      ]
     },
     "execution_count": 69,
     "metadata": {},
     "output_type": "execute_result"
    }
   ],
   "source": [
    "df[\"user\"].head()"
   ]
  },
  {
   "cell_type": "code",
   "execution_count": 70,
   "id": "8935af20",
   "metadata": {},
   "outputs": [
    {
     "data": {
      "application/vnd.microsoft.datawrangler.viewer.v0+json": {
       "columns": [
        {
         "name": "index",
         "rawType": "int64",
         "type": "integer"
        },
        {
         "name": "User_Id",
         "rawType": "int64",
         "type": "integer"
        },
        {
         "name": "Location",
         "rawType": "object",
         "type": "string"
        },
        {
         "name": "Age",
         "rawType": "int64",
         "type": "integer"
        },
        {
         "name": "dob",
         "rawType": "object",
         "type": "unknown"
        }
       ],
       "ref": "eccb7b8d-2844-41b7-995f-6bbeb0e39037",
       "rows": [
        [
         "0",
         "1",
         "Semarang, Jawa Tengah",
         "20",
         "2006-05-05"
        ],
        [
         "1",
         "2",
         "Bekasi, Jawa Barat",
         "21",
         "2004-11-25"
        ],
        [
         "2",
         "3",
         "Cirebon, Jawa Barat",
         "23",
         "2003-07-13"
        ],
        [
         "3",
         "4",
         "Bekasi, Jawa Barat",
         "21",
         "2005-02-03"
        ],
        [
         "4",
         "5",
         "Lampung, Sumatera Selatan",
         "20",
         "2006-03-07"
        ]
       ],
       "shape": {
        "columns": 4,
        "rows": 5
       }
      },
      "text/html": [
       "<div>\n",
       "<style scoped>\n",
       "    .dataframe tbody tr th:only-of-type {\n",
       "        vertical-align: middle;\n",
       "    }\n",
       "\n",
       "    .dataframe tbody tr th {\n",
       "        vertical-align: top;\n",
       "    }\n",
       "\n",
       "    .dataframe thead th {\n",
       "        text-align: right;\n",
       "    }\n",
       "</style>\n",
       "<table border=\"1\" class=\"dataframe\">\n",
       "  <thead>\n",
       "    <tr style=\"text-align: right;\">\n",
       "      <th></th>\n",
       "      <th>User_Id</th>\n",
       "      <th>Location</th>\n",
       "      <th>Age</th>\n",
       "      <th>dob</th>\n",
       "    </tr>\n",
       "  </thead>\n",
       "  <tbody>\n",
       "    <tr>\n",
       "      <th>0</th>\n",
       "      <td>1</td>\n",
       "      <td>Semarang, Jawa Tengah</td>\n",
       "      <td>20</td>\n",
       "      <td>2006-05-05</td>\n",
       "    </tr>\n",
       "    <tr>\n",
       "      <th>1</th>\n",
       "      <td>2</td>\n",
       "      <td>Bekasi, Jawa Barat</td>\n",
       "      <td>21</td>\n",
       "      <td>2004-11-25</td>\n",
       "    </tr>\n",
       "    <tr>\n",
       "      <th>2</th>\n",
       "      <td>3</td>\n",
       "      <td>Cirebon, Jawa Barat</td>\n",
       "      <td>23</td>\n",
       "      <td>2003-07-13</td>\n",
       "    </tr>\n",
       "    <tr>\n",
       "      <th>3</th>\n",
       "      <td>4</td>\n",
       "      <td>Bekasi, Jawa Barat</td>\n",
       "      <td>21</td>\n",
       "      <td>2005-02-03</td>\n",
       "    </tr>\n",
       "    <tr>\n",
       "      <th>4</th>\n",
       "      <td>5</td>\n",
       "      <td>Lampung, Sumatera Selatan</td>\n",
       "      <td>20</td>\n",
       "      <td>2006-03-07</td>\n",
       "    </tr>\n",
       "  </tbody>\n",
       "</table>\n",
       "</div>"
      ],
      "text/plain": [
       "   User_Id                   Location  Age         dob\n",
       "0        1      Semarang, Jawa Tengah   20  2006-05-05\n",
       "1        2         Bekasi, Jawa Barat   21  2004-11-25\n",
       "2        3        Cirebon, Jawa Barat   23  2003-07-13\n",
       "3        4         Bekasi, Jawa Barat   21  2005-02-03\n",
       "4        5  Lampung, Sumatera Selatan   20  2006-03-07"
      ]
     },
     "execution_count": 70,
     "metadata": {},
     "output_type": "execute_result"
    }
   ],
   "source": [
    "df['user']['dob'] = df['user']['Age'].apply(\n",
    "    lambda age: Utils.calculate_dob_from_age(age)\n",
    ")\n",
    "df['user'].head()"
   ]
  },
  {
   "cell_type": "code",
   "execution_count": 82,
   "id": "1edace70",
   "metadata": {},
   "outputs": [
    {
     "data": {
      "application/vnd.microsoft.datawrangler.viewer.v0+json": {
       "columns": [
        {
         "name": "index",
         "rawType": "int64",
         "type": "integer"
        },
        {
         "name": "User_Id",
         "rawType": "int64",
         "type": "integer"
        },
        {
         "name": "Location",
         "rawType": "object",
         "type": "string"
        },
        {
         "name": "Age",
         "rawType": "int64",
         "type": "integer"
        },
        {
         "name": "dob",
         "rawType": "object",
         "type": "unknown"
        },
        {
         "name": "password",
         "rawType": "object",
         "type": "string"
        },
        {
         "name": "full_name",
         "rawType": "object",
         "type": "string"
        },
        {
         "name": "username",
         "rawType": "object",
         "type": "string"
        },
        {
         "name": "Province",
         "rawType": "object",
         "type": "string"
        }
       ],
       "ref": "abe0cf95-1295-4780-bd43-4a0817678510",
       "rows": [
        [
         "0",
         "1",
         "Semarang, Jawa Tengah",
         "20",
         "2006-05-05",
         "$argon2id$v=19$m=65536,t=3,p=4$fPGg47n2ymHwC4cNfQzEOA$MdHFECw8tU/VTXaPg72XpAePkcSQoXtbyCXDW6x65y4",
         "Ade Nasyiah, M.M.",
         "adenasyia89",
         "Jawa Tengah"
        ],
        [
         "1",
         "2",
         "Bekasi, Jawa Barat",
         "21",
         "2004-11-25",
         "$argon2id$v=19$m=65536,t=3,p=4$fPGg47n2ymHwC4cNfQzEOA$MdHFECw8tU/VTXaPg72XpAePkcSQoXtbyCXDW6x65y4",
         "Nadine Mulyani",
         "nadinemul25",
         "Jawa Barat"
        ],
        [
         "2",
         "3",
         "Cirebon, Jawa Barat",
         "23",
         "2003-07-13",
         "$argon2id$v=19$m=65536,t=3,p=4$fPGg47n2ymHwC4cNfQzEOA$MdHFECw8tU/VTXaPg72XpAePkcSQoXtbyCXDW6x65y4",
         "Elvin Gunawan",
         "elvinguna55",
         "Jawa Barat"
        ],
        [
         "3",
         "4",
         "Bekasi, Jawa Barat",
         "21",
         "2005-02-03",
         "$argon2id$v=19$m=65536,t=3,p=4$fPGg47n2ymHwC4cNfQzEOA$MdHFECw8tU/VTXaPg72XpAePkcSQoXtbyCXDW6x65y4",
         "drg. Marwata Waskita, S.E.I",
         "drgmarwa87",
         "Jawa Barat"
        ],
        [
         "4",
         "5",
         "Lampung, Sumatera Selatan",
         "20",
         "2006-03-07",
         "$argon2id$v=19$m=65536,t=3,p=4$fPGg47n2ymHwC4cNfQzEOA$MdHFECw8tU/VTXaPg72XpAePkcSQoXtbyCXDW6x65y4",
         "Drs. Lutfan Narpati",
         "drslutfa82",
         "Sumatera Selatan"
        ]
       ],
       "shape": {
        "columns": 8,
        "rows": 5
       }
      },
      "text/html": [
       "<div>\n",
       "<style scoped>\n",
       "    .dataframe tbody tr th:only-of-type {\n",
       "        vertical-align: middle;\n",
       "    }\n",
       "\n",
       "    .dataframe tbody tr th {\n",
       "        vertical-align: top;\n",
       "    }\n",
       "\n",
       "    .dataframe thead th {\n",
       "        text-align: right;\n",
       "    }\n",
       "</style>\n",
       "<table border=\"1\" class=\"dataframe\">\n",
       "  <thead>\n",
       "    <tr style=\"text-align: right;\">\n",
       "      <th></th>\n",
       "      <th>User_Id</th>\n",
       "      <th>Location</th>\n",
       "      <th>Age</th>\n",
       "      <th>dob</th>\n",
       "      <th>password</th>\n",
       "      <th>full_name</th>\n",
       "      <th>username</th>\n",
       "      <th>Province</th>\n",
       "    </tr>\n",
       "  </thead>\n",
       "  <tbody>\n",
       "    <tr>\n",
       "      <th>0</th>\n",
       "      <td>1</td>\n",
       "      <td>Semarang, Jawa Tengah</td>\n",
       "      <td>20</td>\n",
       "      <td>2006-05-05</td>\n",
       "      <td>$argon2id$v=19$m=65536,t=3,p=4$fPGg47n2ymHwC4c...</td>\n",
       "      <td>Ade Nasyiah, M.M.</td>\n",
       "      <td>adenasyia89</td>\n",
       "      <td>Jawa Tengah</td>\n",
       "    </tr>\n",
       "    <tr>\n",
       "      <th>1</th>\n",
       "      <td>2</td>\n",
       "      <td>Bekasi, Jawa Barat</td>\n",
       "      <td>21</td>\n",
       "      <td>2004-11-25</td>\n",
       "      <td>$argon2id$v=19$m=65536,t=3,p=4$fPGg47n2ymHwC4c...</td>\n",
       "      <td>Nadine Mulyani</td>\n",
       "      <td>nadinemul25</td>\n",
       "      <td>Jawa Barat</td>\n",
       "    </tr>\n",
       "    <tr>\n",
       "      <th>2</th>\n",
       "      <td>3</td>\n",
       "      <td>Cirebon, Jawa Barat</td>\n",
       "      <td>23</td>\n",
       "      <td>2003-07-13</td>\n",
       "      <td>$argon2id$v=19$m=65536,t=3,p=4$fPGg47n2ymHwC4c...</td>\n",
       "      <td>Elvin Gunawan</td>\n",
       "      <td>elvinguna55</td>\n",
       "      <td>Jawa Barat</td>\n",
       "    </tr>\n",
       "    <tr>\n",
       "      <th>3</th>\n",
       "      <td>4</td>\n",
       "      <td>Bekasi, Jawa Barat</td>\n",
       "      <td>21</td>\n",
       "      <td>2005-02-03</td>\n",
       "      <td>$argon2id$v=19$m=65536,t=3,p=4$fPGg47n2ymHwC4c...</td>\n",
       "      <td>drg. Marwata Waskita, S.E.I</td>\n",
       "      <td>drgmarwa87</td>\n",
       "      <td>Jawa Barat</td>\n",
       "    </tr>\n",
       "    <tr>\n",
       "      <th>4</th>\n",
       "      <td>5</td>\n",
       "      <td>Lampung, Sumatera Selatan</td>\n",
       "      <td>20</td>\n",
       "      <td>2006-03-07</td>\n",
       "      <td>$argon2id$v=19$m=65536,t=3,p=4$fPGg47n2ymHwC4c...</td>\n",
       "      <td>Drs. Lutfan Narpati</td>\n",
       "      <td>drslutfa82</td>\n",
       "      <td>Sumatera Selatan</td>\n",
       "    </tr>\n",
       "  </tbody>\n",
       "</table>\n",
       "</div>"
      ],
      "text/plain": [
       "   User_Id                   Location  Age         dob  \\\n",
       "0        1      Semarang, Jawa Tengah   20  2006-05-05   \n",
       "1        2         Bekasi, Jawa Barat   21  2004-11-25   \n",
       "2        3        Cirebon, Jawa Barat   23  2003-07-13   \n",
       "3        4         Bekasi, Jawa Barat   21  2005-02-03   \n",
       "4        5  Lampung, Sumatera Selatan   20  2006-03-07   \n",
       "\n",
       "                                            password  \\\n",
       "0  $argon2id$v=19$m=65536,t=3,p=4$fPGg47n2ymHwC4c...   \n",
       "1  $argon2id$v=19$m=65536,t=3,p=4$fPGg47n2ymHwC4c...   \n",
       "2  $argon2id$v=19$m=65536,t=3,p=4$fPGg47n2ymHwC4c...   \n",
       "3  $argon2id$v=19$m=65536,t=3,p=4$fPGg47n2ymHwC4c...   \n",
       "4  $argon2id$v=19$m=65536,t=3,p=4$fPGg47n2ymHwC4c...   \n",
       "\n",
       "                     full_name     username          Province  \n",
       "0            Ade Nasyiah, M.M.  adenasyia89       Jawa Tengah  \n",
       "1               Nadine Mulyani  nadinemul25        Jawa Barat  \n",
       "2                Elvin Gunawan  elvinguna55        Jawa Barat  \n",
       "3  drg. Marwata Waskita, S.E.I   drgmarwa87        Jawa Barat  \n",
       "4          Drs. Lutfan Narpati   drslutfa82  Sumatera Selatan  "
      ]
     },
     "execution_count": 82,
     "metadata": {},
     "output_type": "execute_result"
    }
   ],
   "source": [
    "df['user']['Province'] = df['user']['Location'].apply(\n",
    "    lambda x: x.split(',')[1].strip() if pd.notnull(x) else x\n",
    ")\n",
    "df['user'].head()"
   ]
  },
  {
   "cell_type": "code",
   "execution_count": 71,
   "id": "087327a7",
   "metadata": {},
   "outputs": [],
   "source": [
    "password = CONFIG.USER_STARTER_PASSWORD.get_secret_value() # type: ignore\n"
   ]
  },
  {
   "cell_type": "code",
   "execution_count": 72,
   "id": "6c74a9cb",
   "metadata": {},
   "outputs": [],
   "source": [
    "ph = PasswordHasher()"
   ]
  },
  {
   "cell_type": "code",
   "execution_count": 73,
   "id": "1338d9f3",
   "metadata": {},
   "outputs": [],
   "source": [
    "hashed = ph.hash(password)"
   ]
  },
  {
   "cell_type": "code",
   "execution_count": 74,
   "id": "07b0645d",
   "metadata": {},
   "outputs": [
    {
     "data": {
      "text/plain": [
       "True"
      ]
     },
     "execution_count": 74,
     "metadata": {},
     "output_type": "execute_result"
    }
   ],
   "source": [
    "ph.verify(hashed, password)"
   ]
  },
  {
   "cell_type": "code",
   "execution_count": 75,
   "id": "9e280416",
   "metadata": {},
   "outputs": [],
   "source": [
    "df['user']['password'] = hashed"
   ]
  },
  {
   "cell_type": "code",
   "execution_count": 76,
   "id": "2525c67f",
   "metadata": {},
   "outputs": [],
   "source": [
    "fake = Faker(\"id_ID\")  "
   ]
  },
  {
   "cell_type": "code",
   "execution_count": 83,
   "id": "217e91d7",
   "metadata": {},
   "outputs": [
    {
     "data": {
      "application/vnd.microsoft.datawrangler.viewer.v0+json": {
       "columns": [
        {
         "name": "index",
         "rawType": "int64",
         "type": "integer"
        },
        {
         "name": "User_Id",
         "rawType": "int64",
         "type": "integer"
        },
        {
         "name": "Location",
         "rawType": "object",
         "type": "string"
        },
        {
         "name": "Age",
         "rawType": "int64",
         "type": "integer"
        },
        {
         "name": "dob",
         "rawType": "object",
         "type": "unknown"
        },
        {
         "name": "password",
         "rawType": "object",
         "type": "string"
        },
        {
         "name": "full_name",
         "rawType": "object",
         "type": "string"
        },
        {
         "name": "username",
         "rawType": "object",
         "type": "string"
        },
        {
         "name": "Province",
         "rawType": "object",
         "type": "string"
        }
       ],
       "ref": "fce810b2-c23a-4361-9804-7c265320dd11",
       "rows": [
        [
         "0",
         "1",
         "Semarang, Jawa Tengah",
         "20",
         "2006-05-05",
         "$argon2id$v=19$m=65536,t=3,p=4$fPGg47n2ymHwC4cNfQzEOA$MdHFECw8tU/VTXaPg72XpAePkcSQoXtbyCXDW6x65y4",
         "Hardana Tarihoran",
         "hardanata25",
         "Jawa Tengah"
        ],
        [
         "1",
         "2",
         "Bekasi, Jawa Barat",
         "21",
         "2004-11-25",
         "$argon2id$v=19$m=65536,t=3,p=4$fPGg47n2ymHwC4cNfQzEOA$MdHFECw8tU/VTXaPg72XpAePkcSQoXtbyCXDW6x65y4",
         "Dt. Bala Mulyani",
         "dtbalam70",
         "Jawa Barat"
        ],
        [
         "2",
         "3",
         "Cirebon, Jawa Barat",
         "23",
         "2003-07-13",
         "$argon2id$v=19$m=65536,t=3,p=4$fPGg47n2ymHwC4cNfQzEOA$MdHFECw8tU/VTXaPg72XpAePkcSQoXtbyCXDW6x65y4",
         "Vicky Prasetya",
         "vickypras41",
         "Jawa Barat"
        ],
        [
         "3",
         "4",
         "Bekasi, Jawa Barat",
         "21",
         "2005-02-03",
         "$argon2id$v=19$m=65536,t=3,p=4$fPGg47n2ymHwC4cNfQzEOA$MdHFECw8tU/VTXaPg72XpAePkcSQoXtbyCXDW6x65y4",
         "Genta Zulaika",
         "gentazula74",
         "Jawa Barat"
        ],
        [
         "4",
         "5",
         "Lampung, Sumatera Selatan",
         "20",
         "2006-03-07",
         "$argon2id$v=19$m=65536,t=3,p=4$fPGg47n2ymHwC4cNfQzEOA$MdHFECw8tU/VTXaPg72XpAePkcSQoXtbyCXDW6x65y4",
         "Ida Saptono",
         "idasapton33",
         "Sumatera Selatan"
        ]
       ],
       "shape": {
        "columns": 8,
        "rows": 5
       }
      },
      "text/html": [
       "<div>\n",
       "<style scoped>\n",
       "    .dataframe tbody tr th:only-of-type {\n",
       "        vertical-align: middle;\n",
       "    }\n",
       "\n",
       "    .dataframe tbody tr th {\n",
       "        vertical-align: top;\n",
       "    }\n",
       "\n",
       "    .dataframe thead th {\n",
       "        text-align: right;\n",
       "    }\n",
       "</style>\n",
       "<table border=\"1\" class=\"dataframe\">\n",
       "  <thead>\n",
       "    <tr style=\"text-align: right;\">\n",
       "      <th></th>\n",
       "      <th>User_Id</th>\n",
       "      <th>Location</th>\n",
       "      <th>Age</th>\n",
       "      <th>dob</th>\n",
       "      <th>password</th>\n",
       "      <th>full_name</th>\n",
       "      <th>username</th>\n",
       "      <th>Province</th>\n",
       "    </tr>\n",
       "  </thead>\n",
       "  <tbody>\n",
       "    <tr>\n",
       "      <th>0</th>\n",
       "      <td>1</td>\n",
       "      <td>Semarang, Jawa Tengah</td>\n",
       "      <td>20</td>\n",
       "      <td>2006-05-05</td>\n",
       "      <td>$argon2id$v=19$m=65536,t=3,p=4$fPGg47n2ymHwC4c...</td>\n",
       "      <td>Hardana Tarihoran</td>\n",
       "      <td>hardanata25</td>\n",
       "      <td>Jawa Tengah</td>\n",
       "    </tr>\n",
       "    <tr>\n",
       "      <th>1</th>\n",
       "      <td>2</td>\n",
       "      <td>Bekasi, Jawa Barat</td>\n",
       "      <td>21</td>\n",
       "      <td>2004-11-25</td>\n",
       "      <td>$argon2id$v=19$m=65536,t=3,p=4$fPGg47n2ymHwC4c...</td>\n",
       "      <td>Dt. Bala Mulyani</td>\n",
       "      <td>dtbalam70</td>\n",
       "      <td>Jawa Barat</td>\n",
       "    </tr>\n",
       "    <tr>\n",
       "      <th>2</th>\n",
       "      <td>3</td>\n",
       "      <td>Cirebon, Jawa Barat</td>\n",
       "      <td>23</td>\n",
       "      <td>2003-07-13</td>\n",
       "      <td>$argon2id$v=19$m=65536,t=3,p=4$fPGg47n2ymHwC4c...</td>\n",
       "      <td>Vicky Prasetya</td>\n",
       "      <td>vickypras41</td>\n",
       "      <td>Jawa Barat</td>\n",
       "    </tr>\n",
       "    <tr>\n",
       "      <th>3</th>\n",
       "      <td>4</td>\n",
       "      <td>Bekasi, Jawa Barat</td>\n",
       "      <td>21</td>\n",
       "      <td>2005-02-03</td>\n",
       "      <td>$argon2id$v=19$m=65536,t=3,p=4$fPGg47n2ymHwC4c...</td>\n",
       "      <td>Genta Zulaika</td>\n",
       "      <td>gentazula74</td>\n",
       "      <td>Jawa Barat</td>\n",
       "    </tr>\n",
       "    <tr>\n",
       "      <th>4</th>\n",
       "      <td>5</td>\n",
       "      <td>Lampung, Sumatera Selatan</td>\n",
       "      <td>20</td>\n",
       "      <td>2006-03-07</td>\n",
       "      <td>$argon2id$v=19$m=65536,t=3,p=4$fPGg47n2ymHwC4c...</td>\n",
       "      <td>Ida Saptono</td>\n",
       "      <td>idasapton33</td>\n",
       "      <td>Sumatera Selatan</td>\n",
       "    </tr>\n",
       "  </tbody>\n",
       "</table>\n",
       "</div>"
      ],
      "text/plain": [
       "   User_Id                   Location  Age         dob  \\\n",
       "0        1      Semarang, Jawa Tengah   20  2006-05-05   \n",
       "1        2         Bekasi, Jawa Barat   21  2004-11-25   \n",
       "2        3        Cirebon, Jawa Barat   23  2003-07-13   \n",
       "3        4         Bekasi, Jawa Barat   21  2005-02-03   \n",
       "4        5  Lampung, Sumatera Selatan   20  2006-03-07   \n",
       "\n",
       "                                            password          full_name  \\\n",
       "0  $argon2id$v=19$m=65536,t=3,p=4$fPGg47n2ymHwC4c...  Hardana Tarihoran   \n",
       "1  $argon2id$v=19$m=65536,t=3,p=4$fPGg47n2ymHwC4c...   Dt. Bala Mulyani   \n",
       "2  $argon2id$v=19$m=65536,t=3,p=4$fPGg47n2ymHwC4c...     Vicky Prasetya   \n",
       "3  $argon2id$v=19$m=65536,t=3,p=4$fPGg47n2ymHwC4c...      Genta Zulaika   \n",
       "4  $argon2id$v=19$m=65536,t=3,p=4$fPGg47n2ymHwC4c...        Ida Saptono   \n",
       "\n",
       "      username          Province  \n",
       "0  hardanata25       Jawa Tengah  \n",
       "1    dtbalam70        Jawa Barat  \n",
       "2  vickypras41        Jawa Barat  \n",
       "3  gentazula74        Jawa Barat  \n",
       "4  idasapton33  Sumatera Selatan  "
      ]
     },
     "execution_count": 83,
     "metadata": {},
     "output_type": "execute_result"
    }
   ],
   "source": [
    "df['user']['full_name'] = df['user'].apply(lambda row: fake.name(), axis=1)\n",
    "df['user']['username'] = df['user']['full_name'].apply(\n",
    "    lambda name: name[:10].lower().replace(' ', '_').translate(str.maketrans('', '', string.punctuation)) + str(random.randint(10, 99))\n",
    ")\n",
    "df['user'].head()"
   ]
  },
  {
   "cell_type": "code",
   "execution_count": null,
   "id": "66117e20",
   "metadata": {},
   "outputs": [],
   "source": [
    "user_insert_sql = \"\"\"\n",
    "insert into public.users (\n",
    "  user_id,\n",
    "  username,\n",
    "  full_name,\n",
    "  password,\n",
    "  dob,\n",
    "  province\n",
    ") values\n",
    "\"\"\""
   ]
  },
  {
   "cell_type": "code",
   "execution_count": 92,
   "id": "11c56299",
   "metadata": {},
   "outputs": [],
   "source": [
    "rows = []\n",
    "for _, row in df['user'].iterrows():\n",
    "    rows.append(\n",
    "        f\"('{row['User_Id']}', {row['username']}, '{row['full_name']}', '{row['password']}', '{row['dob']}', '{row['Province']}')\"\n",
    "    )\n",
    "values_str = \",\\n\".join(rows)"
   ]
  },
  {
   "cell_type": "code",
   "execution_count": 95,
   "id": "806bc07d",
   "metadata": {},
   "outputs": [],
   "source": [
    "with open(\"supabase/seeder/user.sql\", \"w\") as f:\n",
    "    f.write(user_insert_sql + values_str + \";\")"
   ]
  }
 ],
 "metadata": {
  "kernelspec": {
   "display_name": "supabase-python-seeder (3.12.11)",
   "language": "python",
   "name": "python3"
  },
  "language_info": {
   "codemirror_mode": {
    "name": "ipython",
    "version": 3
   },
   "file_extension": ".py",
   "mimetype": "text/x-python",
   "name": "python",
   "nbconvert_exporter": "python",
   "pygments_lexer": "ipython3",
   "version": "3.12.11"
  }
 },
 "nbformat": 4,
 "nbformat_minor": 5
}
