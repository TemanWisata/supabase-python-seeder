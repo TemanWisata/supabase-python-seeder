{
 "cells": [
  {
   "cell_type": "code",
   "execution_count": 62,
   "id": "b6879ac3",
   "metadata": {},
   "outputs": [],
   "source": [
    "import glob\n",
    "from pprint import pprint\n",
    "from pathlib import Path\n",
    "import string\n",
    "import random\n",
    "\n",
    "import pandas as pd\n",
    "from argon2 import PasswordHasher\n",
    "from faker import Faker\n",
    "\n",
    "from config import CONFIG\n",
    "from utils import Utils"
   ]
  },
  {
   "cell_type": "code",
   "execution_count": 67,
   "id": "da7f00f8",
   "metadata": {},
   "outputs": [
    {
     "name": "stdout",
     "output_type": "stream",
     "text": [
      "(\"Datasets:[PosixPath('datasets/aprabowo/indonesia-tourism-destination/versions/1/package_tourism.csv'), \"\n",
      " \"PosixPath('datasets/aprabowo/indonesia-tourism-destination/versions/1/tourism_rating.csv'), \"\n",
      " \"PosixPath('datasets/aprabowo/indonesia-tourism-destination/versions/1/user.csv'), \"\n",
      " \"PosixPath('datasets/aprabowo/indonesia-tourism-destination/versions/1/tourism_with_id.csv')]\")\n"
     ]
    }
   ],
   "source": [
    "DATASET_PATH = str((\"datasets/*/*/*/*/*\"))\n",
    "datasets = list(map(lambda x: Path(x), glob.glob(DATASET_PATH)))\n",
    "\n",
    "pprint(f\"Datasets:{datasets}\")"
   ]
  },
  {
   "cell_type": "code",
   "execution_count": 68,
   "id": "6c53bf4c",
   "metadata": {},
   "outputs": [
    {
     "name": "stdout",
     "output_type": "stream",
     "text": [
      "dict_keys(['package_tourism', 'tourism_rating', 'user', 'tourism_with_id'])\n"
     ]
    }
   ],
   "source": [
    "df = {data_path.stem: pd.read_csv(data_path) for data_path in datasets}\n",
    "print(df.keys())"
   ]
  },
  {
   "cell_type": "markdown",
   "id": "822f3079",
   "metadata": {},
   "source": [
    "## User Data"
   ]
  },
  {
   "cell_type": "code",
   "execution_count": 69,
   "id": "70fea7cd",
   "metadata": {},
   "outputs": [
    {
     "data": {
      "application/vnd.microsoft.datawrangler.viewer.v0+json": {
       "columns": [
        {
         "name": "index",
         "rawType": "int64",
         "type": "integer"
        },
        {
         "name": "User_Id",
         "rawType": "int64",
         "type": "integer"
        },
        {
         "name": "Location",
         "rawType": "object",
         "type": "string"
        },
        {
         "name": "Age",
         "rawType": "int64",
         "type": "integer"
        }
       ],
       "ref": "e0848995-2c5b-4fdf-bd55-6378f728d5b3",
       "rows": [
        [
         "0",
         "1",
         "Semarang, Jawa Tengah",
         "20"
        ],
        [
         "1",
         "2",
         "Bekasi, Jawa Barat",
         "21"
        ],
        [
         "2",
         "3",
         "Cirebon, Jawa Barat",
         "23"
        ],
        [
         "3",
         "4",
         "Bekasi, Jawa Barat",
         "21"
        ],
        [
         "4",
         "5",
         "Lampung, Sumatera Selatan",
         "20"
        ]
       ],
       "shape": {
        "columns": 3,
        "rows": 5
       }
      },
      "text/html": [
       "<div>\n",
       "<style scoped>\n",
       "    .dataframe tbody tr th:only-of-type {\n",
       "        vertical-align: middle;\n",
       "    }\n",
       "\n",
       "    .dataframe tbody tr th {\n",
       "        vertical-align: top;\n",
       "    }\n",
       "\n",
       "    .dataframe thead th {\n",
       "        text-align: right;\n",
       "    }\n",
       "</style>\n",
       "<table border=\"1\" class=\"dataframe\">\n",
       "  <thead>\n",
       "    <tr style=\"text-align: right;\">\n",
       "      <th></th>\n",
       "      <th>User_Id</th>\n",
       "      <th>Location</th>\n",
       "      <th>Age</th>\n",
       "    </tr>\n",
       "  </thead>\n",
       "  <tbody>\n",
       "    <tr>\n",
       "      <th>0</th>\n",
       "      <td>1</td>\n",
       "      <td>Semarang, Jawa Tengah</td>\n",
       "      <td>20</td>\n",
       "    </tr>\n",
       "    <tr>\n",
       "      <th>1</th>\n",
       "      <td>2</td>\n",
       "      <td>Bekasi, Jawa Barat</td>\n",
       "      <td>21</td>\n",
       "    </tr>\n",
       "    <tr>\n",
       "      <th>2</th>\n",
       "      <td>3</td>\n",
       "      <td>Cirebon, Jawa Barat</td>\n",
       "      <td>23</td>\n",
       "    </tr>\n",
       "    <tr>\n",
       "      <th>3</th>\n",
       "      <td>4</td>\n",
       "      <td>Bekasi, Jawa Barat</td>\n",
       "      <td>21</td>\n",
       "    </tr>\n",
       "    <tr>\n",
       "      <th>4</th>\n",
       "      <td>5</td>\n",
       "      <td>Lampung, Sumatera Selatan</td>\n",
       "      <td>20</td>\n",
       "    </tr>\n",
       "  </tbody>\n",
       "</table>\n",
       "</div>"
      ],
      "text/plain": [
       "   User_Id                   Location  Age\n",
       "0        1      Semarang, Jawa Tengah   20\n",
       "1        2         Bekasi, Jawa Barat   21\n",
       "2        3        Cirebon, Jawa Barat   23\n",
       "3        4         Bekasi, Jawa Barat   21\n",
       "4        5  Lampung, Sumatera Selatan   20"
      ]
     },
     "execution_count": 69,
     "metadata": {},
     "output_type": "execute_result"
    }
   ],
   "source": [
    "df[\"user\"].head()"
   ]
  },
  {
   "cell_type": "code",
   "execution_count": 70,
   "id": "8935af20",
   "metadata": {},
   "outputs": [
    {
     "data": {
      "application/vnd.microsoft.datawrangler.viewer.v0+json": {
       "columns": [
        {
         "name": "index",
         "rawType": "int64",
         "type": "integer"
        },
        {
         "name": "User_Id",
         "rawType": "int64",
         "type": "integer"
        },
        {
         "name": "Location",
         "rawType": "object",
         "type": "string"
        },
        {
         "name": "Age",
         "rawType": "int64",
         "type": "integer"
        },
        {
         "name": "dob",
         "rawType": "object",
         "type": "unknown"
        }
       ],
       "ref": "eccb7b8d-2844-41b7-995f-6bbeb0e39037",
       "rows": [
        [
         "0",
         "1",
         "Semarang, Jawa Tengah",
         "20",
         "2006-05-05"
        ],
        [
         "1",
         "2",
         "Bekasi, Jawa Barat",
         "21",
         "2004-11-25"
        ],
        [
         "2",
         "3",
         "Cirebon, Jawa Barat",
         "23",
         "2003-07-13"
        ],
        [
         "3",
         "4",
         "Bekasi, Jawa Barat",
         "21",
         "2005-02-03"
        ],
        [
         "4",
         "5",
         "Lampung, Sumatera Selatan",
         "20",
         "2006-03-07"
        ]
       ],
       "shape": {
        "columns": 4,
        "rows": 5
       }
      },
      "text/html": [
       "<div>\n",
       "<style scoped>\n",
       "    .dataframe tbody tr th:only-of-type {\n",
       "        vertical-align: middle;\n",
       "    }\n",
       "\n",
       "    .dataframe tbody tr th {\n",
       "        vertical-align: top;\n",
       "    }\n",
       "\n",
       "    .dataframe thead th {\n",
       "        text-align: right;\n",
       "    }\n",
       "</style>\n",
       "<table border=\"1\" class=\"dataframe\">\n",
       "  <thead>\n",
       "    <tr style=\"text-align: right;\">\n",
       "      <th></th>\n",
       "      <th>User_Id</th>\n",
       "      <th>Location</th>\n",
       "      <th>Age</th>\n",
       "      <th>dob</th>\n",
       "    </tr>\n",
       "  </thead>\n",
       "  <tbody>\n",
       "    <tr>\n",
       "      <th>0</th>\n",
       "      <td>1</td>\n",
       "      <td>Semarang, Jawa Tengah</td>\n",
       "      <td>20</td>\n",
       "      <td>2006-05-05</td>\n",
       "    </tr>\n",
       "    <tr>\n",
       "      <th>1</th>\n",
       "      <td>2</td>\n",
       "      <td>Bekasi, Jawa Barat</td>\n",
       "      <td>21</td>\n",
       "      <td>2004-11-25</td>\n",
       "    </tr>\n",
       "    <tr>\n",
       "      <th>2</th>\n",
       "      <td>3</td>\n",
       "      <td>Cirebon, Jawa Barat</td>\n",
       "      <td>23</td>\n",
       "      <td>2003-07-13</td>\n",
       "    </tr>\n",
       "    <tr>\n",
       "      <th>3</th>\n",
       "      <td>4</td>\n",
       "      <td>Bekasi, Jawa Barat</td>\n",
       "      <td>21</td>\n",
       "      <td>2005-02-03</td>\n",
       "    </tr>\n",
       "    <tr>\n",
       "      <th>4</th>\n",
       "      <td>5</td>\n",
       "      <td>Lampung, Sumatera Selatan</td>\n",
       "      <td>20</td>\n",
       "      <td>2006-03-07</td>\n",
       "    </tr>\n",
       "  </tbody>\n",
       "</table>\n",
       "</div>"
      ],
      "text/plain": [
       "   User_Id                   Location  Age         dob\n",
       "0        1      Semarang, Jawa Tengah   20  2006-05-05\n",
       "1        2         Bekasi, Jawa Barat   21  2004-11-25\n",
       "2        3        Cirebon, Jawa Barat   23  2003-07-13\n",
       "3        4         Bekasi, Jawa Barat   21  2005-02-03\n",
       "4        5  Lampung, Sumatera Selatan   20  2006-03-07"
      ]
     },
     "execution_count": 70,
     "metadata": {},
     "output_type": "execute_result"
    }
   ],
   "source": [
    "df['user']['dob'] = df['user']['Age'].apply(\n",
    "    lambda age: Utils.calculate_dob_from_age(age)\n",
    ")\n",
    "df['user'].head()"
   ]
  },
  {
   "cell_type": "code",
   "execution_count": 82,
   "id": "1edace70",
   "metadata": {},
   "outputs": [
    {
     "data": {
      "application/vnd.microsoft.datawrangler.viewer.v0+json": {
       "columns": [
        {
         "name": "index",
         "rawType": "int64",
         "type": "integer"
        },
        {
         "name": "User_Id",
         "rawType": "int64",
         "type": "integer"
        },
        {
         "name": "Location",
         "rawType": "object",
         "type": "string"
        },
        {
         "name": "Age",
         "rawType": "int64",
         "type": "integer"
        },
        {
         "name": "dob",
         "rawType": "object",
         "type": "unknown"
        },
        {
         "name": "password",
         "rawType": "object",
         "type": "string"
        },
        {
         "name": "full_name",
         "rawType": "object",
         "type": "string"
        },
        {
         "name": "username",
         "rawType": "object",
         "type": "string"
        },
        {
         "name": "Province",
         "rawType": "object",
         "type": "string"
        }
       ],
       "ref": "abe0cf95-1295-4780-bd43-4a0817678510",
       "rows": [
        [
         "0",
         "1",
         "Semarang, Jawa Tengah",
         "20",
         "2006-05-05",
         "$argon2id$v=19$m=65536,t=3,p=4$fPGg47n2ymHwC4cNfQzEOA$MdHFECw8tU/VTXaPg72XpAePkcSQoXtbyCXDW6x65y4",
         "Ade Nasyiah, M.M.",
         "adenasyia89",
         "Jawa Tengah"
        ],
        [
         "1",
         "2",
         "Bekasi, Jawa Barat",
         "21",
         "2004-11-25",
         "$argon2id$v=19$m=65536,t=3,p=4$fPGg47n2ymHwC4cNfQzEOA$MdHFECw8tU/VTXaPg72XpAePkcSQoXtbyCXDW6x65y4",
         "Nadine Mulyani",
         "nadinemul25",
         "Jawa Barat"
        ],
        [
         "2",
         "3",
         "Cirebon, Jawa Barat",
         "23",
         "2003-07-13",
         "$argon2id$v=19$m=65536,t=3,p=4$fPGg47n2ymHwC4cNfQzEOA$MdHFECw8tU/VTXaPg72XpAePkcSQoXtbyCXDW6x65y4",
         "Elvin Gunawan",
         "elvinguna55",
         "Jawa Barat"
        ],
        [
         "3",
         "4",
         "Bekasi, Jawa Barat",
         "21",
         "2005-02-03",
         "$argon2id$v=19$m=65536,t=3,p=4$fPGg47n2ymHwC4cNfQzEOA$MdHFECw8tU/VTXaPg72XpAePkcSQoXtbyCXDW6x65y4",
         "drg. Marwata Waskita, S.E.I",
         "drgmarwa87",
         "Jawa Barat"
        ],
        [
         "4",
         "5",
         "Lampung, Sumatera Selatan",
         "20",
         "2006-03-07",
         "$argon2id$v=19$m=65536,t=3,p=4$fPGg47n2ymHwC4cNfQzEOA$MdHFECw8tU/VTXaPg72XpAePkcSQoXtbyCXDW6x65y4",
         "Drs. Lutfan Narpati",
         "drslutfa82",
         "Sumatera Selatan"
        ]
       ],
       "shape": {
        "columns": 8,
        "rows": 5
       }
      },
      "text/html": [
       "<div>\n",
       "<style scoped>\n",
       "    .dataframe tbody tr th:only-of-type {\n",
       "        vertical-align: middle;\n",
       "    }\n",
       "\n",
       "    .dataframe tbody tr th {\n",
       "        vertical-align: top;\n",
       "    }\n",
       "\n",
       "    .dataframe thead th {\n",
       "        text-align: right;\n",
       "    }\n",
       "</style>\n",
       "<table border=\"1\" class=\"dataframe\">\n",
       "  <thead>\n",
       "    <tr style=\"text-align: right;\">\n",
       "      <th></th>\n",
       "      <th>User_Id</th>\n",
       "      <th>Location</th>\n",
       "      <th>Age</th>\n",
       "      <th>dob</th>\n",
       "      <th>password</th>\n",
       "      <th>full_name</th>\n",
       "      <th>username</th>\n",
       "      <th>Province</th>\n",
       "    </tr>\n",
       "  </thead>\n",
       "  <tbody>\n",
       "    <tr>\n",
       "      <th>0</th>\n",
       "      <td>1</td>\n",
       "      <td>Semarang, Jawa Tengah</td>\n",
       "      <td>20</td>\n",
       "      <td>2006-05-05</td>\n",
       "      <td>$argon2id$v=19$m=65536,t=3,p=4$fPGg47n2ymHwC4c...</td>\n",
       "      <td>Ade Nasyiah, M.M.</td>\n",
       "      <td>adenasyia89</td>\n",
       "      <td>Jawa Tengah</td>\n",
       "    </tr>\n",
       "    <tr>\n",
       "      <th>1</th>\n",
       "      <td>2</td>\n",
       "      <td>Bekasi, Jawa Barat</td>\n",
       "      <td>21</td>\n",
       "      <td>2004-11-25</td>\n",
       "      <td>$argon2id$v=19$m=65536,t=3,p=4$fPGg47n2ymHwC4c...</td>\n",
       "      <td>Nadine Mulyani</td>\n",
       "      <td>nadinemul25</td>\n",
       "      <td>Jawa Barat</td>\n",
       "    </tr>\n",
       "    <tr>\n",
       "      <th>2</th>\n",
       "      <td>3</td>\n",
       "      <td>Cirebon, Jawa Barat</td>\n",
       "      <td>23</td>\n",
       "      <td>2003-07-13</td>\n",
       "      <td>$argon2id$v=19$m=65536,t=3,p=4$fPGg47n2ymHwC4c...</td>\n",
       "      <td>Elvin Gunawan</td>\n",
       "      <td>elvinguna55</td>\n",
       "      <td>Jawa Barat</td>\n",
       "    </tr>\n",
       "    <tr>\n",
       "      <th>3</th>\n",
       "      <td>4</td>\n",
       "      <td>Bekasi, Jawa Barat</td>\n",
       "      <td>21</td>\n",
       "      <td>2005-02-03</td>\n",
       "      <td>$argon2id$v=19$m=65536,t=3,p=4$fPGg47n2ymHwC4c...</td>\n",
       "      <td>drg. Marwata Waskita, S.E.I</td>\n",
       "      <td>drgmarwa87</td>\n",
       "      <td>Jawa Barat</td>\n",
       "    </tr>\n",
       "    <tr>\n",
       "      <th>4</th>\n",
       "      <td>5</td>\n",
       "      <td>Lampung, Sumatera Selatan</td>\n",
       "      <td>20</td>\n",
       "      <td>2006-03-07</td>\n",
       "      <td>$argon2id$v=19$m=65536,t=3,p=4$fPGg47n2ymHwC4c...</td>\n",
       "      <td>Drs. Lutfan Narpati</td>\n",
       "      <td>drslutfa82</td>\n",
       "      <td>Sumatera Selatan</td>\n",
       "    </tr>\n",
       "  </tbody>\n",
       "</table>\n",
       "</div>"
      ],
      "text/plain": [
       "   User_Id                   Location  Age         dob  \\\n",
       "0        1      Semarang, Jawa Tengah   20  2006-05-05   \n",
       "1        2         Bekasi, Jawa Barat   21  2004-11-25   \n",
       "2        3        Cirebon, Jawa Barat   23  2003-07-13   \n",
       "3        4         Bekasi, Jawa Barat   21  2005-02-03   \n",
       "4        5  Lampung, Sumatera Selatan   20  2006-03-07   \n",
       "\n",
       "                                            password  \\\n",
       "0  $argon2id$v=19$m=65536,t=3,p=4$fPGg47n2ymHwC4c...   \n",
       "1  $argon2id$v=19$m=65536,t=3,p=4$fPGg47n2ymHwC4c...   \n",
       "2  $argon2id$v=19$m=65536,t=3,p=4$fPGg47n2ymHwC4c...   \n",
       "3  $argon2id$v=19$m=65536,t=3,p=4$fPGg47n2ymHwC4c...   \n",
       "4  $argon2id$v=19$m=65536,t=3,p=4$fPGg47n2ymHwC4c...   \n",
       "\n",
       "                     full_name     username          Province  \n",
       "0            Ade Nasyiah, M.M.  adenasyia89       Jawa Tengah  \n",
       "1               Nadine Mulyani  nadinemul25        Jawa Barat  \n",
       "2                Elvin Gunawan  elvinguna55        Jawa Barat  \n",
       "3  drg. Marwata Waskita, S.E.I   drgmarwa87        Jawa Barat  \n",
       "4          Drs. Lutfan Narpati   drslutfa82  Sumatera Selatan  "
      ]
     },
     "execution_count": 82,
     "metadata": {},
     "output_type": "execute_result"
    }
   ],
   "source": [
    "df['user']['Province'] = df['user']['Location'].apply(\n",
    "    lambda x: x.split(',')[1].strip() if pd.notnull(x) else x\n",
    ")\n",
    "df['user'].head()"
   ]
  },
  {
   "cell_type": "code",
   "execution_count": 71,
   "id": "087327a7",
   "metadata": {},
   "outputs": [],
   "source": [
    "password = CONFIG.USER_STARTER_PASSWORD.get_secret_value() # type: ignore\n"
   ]
  },
  {
   "cell_type": "code",
   "execution_count": 72,
   "id": "6c74a9cb",
   "metadata": {},
   "outputs": [],
   "source": [
    "ph = PasswordHasher()"
   ]
  },
  {
   "cell_type": "code",
   "execution_count": 73,
   "id": "1338d9f3",
   "metadata": {},
   "outputs": [],
   "source": [
    "hashed = ph.hash(password)"
   ]
  },
  {
   "cell_type": "code",
   "execution_count": 74,
   "id": "07b0645d",
   "metadata": {},
   "outputs": [
    {
     "data": {
      "text/plain": [
       "True"
      ]
     },
     "execution_count": 74,
     "metadata": {},
     "output_type": "execute_result"
    }
   ],
   "source": [
    "ph.verify(hashed, password)"
   ]
  },
  {
   "cell_type": "code",
   "execution_count": 75,
   "id": "9e280416",
   "metadata": {},
   "outputs": [],
   "source": [
    "df['user']['password'] = hashed"
   ]
  },
  {
   "cell_type": "code",
   "execution_count": 76,
   "id": "2525c67f",
   "metadata": {},
   "outputs": [],
   "source": [
    "fake = Faker(\"id_ID\")  "
   ]
  },
  {
   "cell_type": "code",
   "execution_count": 83,
   "id": "217e91d7",
   "metadata": {},
   "outputs": [
    {
     "data": {
      "application/vnd.microsoft.datawrangler.viewer.v0+json": {
       "columns": [
        {
         "name": "index",
         "rawType": "int64",
         "type": "integer"
        },
        {
         "name": "User_Id",
         "rawType": "int64",
         "type": "integer"
        },
        {
         "name": "Location",
         "rawType": "object",
         "type": "string"
        },
        {
         "name": "Age",
         "rawType": "int64",
         "type": "integer"
        },
        {
         "name": "dob",
         "rawType": "object",
         "type": "unknown"
        },
        {
         "name": "password",
         "rawType": "object",
         "type": "string"
        },
        {
         "name": "full_name",
         "rawType": "object",
         "type": "string"
        },
        {
         "name": "username",
         "rawType": "object",
         "type": "string"
        },
        {
         "name": "Province",
         "rawType": "object",
         "type": "string"
        }
       ],
       "ref": "fce810b2-c23a-4361-9804-7c265320dd11",
       "rows": [
        [
         "0",
         "1",
         "Semarang, Jawa Tengah",
         "20",
         "2006-05-05",
         "$argon2id$v=19$m=65536,t=3,p=4$fPGg47n2ymHwC4cNfQzEOA$MdHFECw8tU/VTXaPg72XpAePkcSQoXtbyCXDW6x65y4",
         "Hardana Tarihoran",
         "hardanata25",
         "Jawa Tengah"
        ],
        [
         "1",
         "2",
         "Bekasi, Jawa Barat",
         "21",
         "2004-11-25",
         "$argon2id$v=19$m=65536,t=3,p=4$fPGg47n2ymHwC4cNfQzEOA$MdHFECw8tU/VTXaPg72XpAePkcSQoXtbyCXDW6x65y4",
         "Dt. Bala Mulyani",
         "dtbalam70",
         "Jawa Barat"
        ],
        [
         "2",
         "3",
         "Cirebon, Jawa Barat",
         "23",
         "2003-07-13",
         "$argon2id$v=19$m=65536,t=3,p=4$fPGg47n2ymHwC4cNfQzEOA$MdHFECw8tU/VTXaPg72XpAePkcSQoXtbyCXDW6x65y4",
         "Vicky Prasetya",
         "vickypras41",
         "Jawa Barat"
        ],
        [
         "3",
         "4",
         "Bekasi, Jawa Barat",
         "21",
         "2005-02-03",
         "$argon2id$v=19$m=65536,t=3,p=4$fPGg47n2ymHwC4cNfQzEOA$MdHFECw8tU/VTXaPg72XpAePkcSQoXtbyCXDW6x65y4",
         "Genta Zulaika",
         "gentazula74",
         "Jawa Barat"
        ],
        [
         "4",
         "5",
         "Lampung, Sumatera Selatan",
         "20",
         "2006-03-07",
         "$argon2id$v=19$m=65536,t=3,p=4$fPGg47n2ymHwC4cNfQzEOA$MdHFECw8tU/VTXaPg72XpAePkcSQoXtbyCXDW6x65y4",
         "Ida Saptono",
         "idasapton33",
         "Sumatera Selatan"
        ]
       ],
       "shape": {
        "columns": 8,
        "rows": 5
       }
      },
      "text/html": [
       "<div>\n",
       "<style scoped>\n",
       "    .dataframe tbody tr th:only-of-type {\n",
       "        vertical-align: middle;\n",
       "    }\n",
       "\n",
       "    .dataframe tbody tr th {\n",
       "        vertical-align: top;\n",
       "    }\n",
       "\n",
       "    .dataframe thead th {\n",
       "        text-align: right;\n",
       "    }\n",
       "</style>\n",
       "<table border=\"1\" class=\"dataframe\">\n",
       "  <thead>\n",
       "    <tr style=\"text-align: right;\">\n",
       "      <th></th>\n",
       "      <th>User_Id</th>\n",
       "      <th>Location</th>\n",
       "      <th>Age</th>\n",
       "      <th>dob</th>\n",
       "      <th>password</th>\n",
       "      <th>full_name</th>\n",
       "      <th>username</th>\n",
       "      <th>Province</th>\n",
       "    </tr>\n",
       "  </thead>\n",
       "  <tbody>\n",
       "    <tr>\n",
       "      <th>0</th>\n",
       "      <td>1</td>\n",
       "      <td>Semarang, Jawa Tengah</td>\n",
       "      <td>20</td>\n",
       "      <td>2006-05-05</td>\n",
       "      <td>$argon2id$v=19$m=65536,t=3,p=4$fPGg47n2ymHwC4c...</td>\n",
       "      <td>Hardana Tarihoran</td>\n",
       "      <td>hardanata25</td>\n",
       "      <td>Jawa Tengah</td>\n",
       "    </tr>\n",
       "    <tr>\n",
       "      <th>1</th>\n",
       "      <td>2</td>\n",
       "      <td>Bekasi, Jawa Barat</td>\n",
       "      <td>21</td>\n",
       "      <td>2004-11-25</td>\n",
       "      <td>$argon2id$v=19$m=65536,t=3,p=4$fPGg47n2ymHwC4c...</td>\n",
       "      <td>Dt. Bala Mulyani</td>\n",
       "      <td>dtbalam70</td>\n",
       "      <td>Jawa Barat</td>\n",
       "    </tr>\n",
       "    <tr>\n",
       "      <th>2</th>\n",
       "      <td>3</td>\n",
       "      <td>Cirebon, Jawa Barat</td>\n",
       "      <td>23</td>\n",
       "      <td>2003-07-13</td>\n",
       "      <td>$argon2id$v=19$m=65536,t=3,p=4$fPGg47n2ymHwC4c...</td>\n",
       "      <td>Vicky Prasetya</td>\n",
       "      <td>vickypras41</td>\n",
       "      <td>Jawa Barat</td>\n",
       "    </tr>\n",
       "    <tr>\n",
       "      <th>3</th>\n",
       "      <td>4</td>\n",
       "      <td>Bekasi, Jawa Barat</td>\n",
       "      <td>21</td>\n",
       "      <td>2005-02-03</td>\n",
       "      <td>$argon2id$v=19$m=65536,t=3,p=4$fPGg47n2ymHwC4c...</td>\n",
       "      <td>Genta Zulaika</td>\n",
       "      <td>gentazula74</td>\n",
       "      <td>Jawa Barat</td>\n",
       "    </tr>\n",
       "    <tr>\n",
       "      <th>4</th>\n",
       "      <td>5</td>\n",
       "      <td>Lampung, Sumatera Selatan</td>\n",
       "      <td>20</td>\n",
       "      <td>2006-03-07</td>\n",
       "      <td>$argon2id$v=19$m=65536,t=3,p=4$fPGg47n2ymHwC4c...</td>\n",
       "      <td>Ida Saptono</td>\n",
       "      <td>idasapton33</td>\n",
       "      <td>Sumatera Selatan</td>\n",
       "    </tr>\n",
       "  </tbody>\n",
       "</table>\n",
       "</div>"
      ],
      "text/plain": [
       "   User_Id                   Location  Age         dob  \\\n",
       "0        1      Semarang, Jawa Tengah   20  2006-05-05   \n",
       "1        2         Bekasi, Jawa Barat   21  2004-11-25   \n",
       "2        3        Cirebon, Jawa Barat   23  2003-07-13   \n",
       "3        4         Bekasi, Jawa Barat   21  2005-02-03   \n",
       "4        5  Lampung, Sumatera Selatan   20  2006-03-07   \n",
       "\n",
       "                                            password          full_name  \\\n",
       "0  $argon2id$v=19$m=65536,t=3,p=4$fPGg47n2ymHwC4c...  Hardana Tarihoran   \n",
       "1  $argon2id$v=19$m=65536,t=3,p=4$fPGg47n2ymHwC4c...   Dt. Bala Mulyani   \n",
       "2  $argon2id$v=19$m=65536,t=3,p=4$fPGg47n2ymHwC4c...     Vicky Prasetya   \n",
       "3  $argon2id$v=19$m=65536,t=3,p=4$fPGg47n2ymHwC4c...      Genta Zulaika   \n",
       "4  $argon2id$v=19$m=65536,t=3,p=4$fPGg47n2ymHwC4c...        Ida Saptono   \n",
       "\n",
       "      username          Province  \n",
       "0  hardanata25       Jawa Tengah  \n",
       "1    dtbalam70        Jawa Barat  \n",
       "2  vickypras41        Jawa Barat  \n",
       "3  gentazula74        Jawa Barat  \n",
       "4  idasapton33  Sumatera Selatan  "
      ]
     },
     "execution_count": 83,
     "metadata": {},
     "output_type": "execute_result"
    }
   ],
   "source": [
    "df['user']['full_name'] = df['user'].apply(lambda row: fake.name(), axis=1)\n",
    "df['user']['username'] = df['user']['full_name'].apply(\n",
    "    lambda name: name[:10].lower().replace(' ', '_').translate(str.maketrans('', '', string.punctuation)) + str(random.randint(10, 99))\n",
    ")\n",
    "df['user'].head()"
   ]
  },
  {
   "cell_type": "code",
   "execution_count": 120,
   "id": "66117e20",
   "metadata": {},
   "outputs": [],
   "source": [
    "user_insert_sql = \"\"\"\n",
    "insert into public.users (\n",
    "  user_id,\n",
    "  username,\n",
    "  full_name,\n",
    "  password,\n",
    "  dob,\n",
    "  province\n",
    ") values\n",
    "\"\"\""
   ]
  },
  {
   "cell_type": "code",
   "execution_count": 121,
   "id": "11c56299",
   "metadata": {},
   "outputs": [],
   "source": [
    "rows = []\n",
    "for _, row in df['user'].iterrows():\n",
    "    rows.append(\n",
    "        f\"({row['User_Id']}, '{row['username']}', '{row['full_name']}', '{row['password']}', '{row['dob']}', '{row['Province']}')\"\n",
    "    )\n",
    "values_str = \",\\n\".join(rows)"
   ]
  },
  {
   "cell_type": "code",
   "execution_count": 122,
   "id": "806bc07d",
   "metadata": {},
   "outputs": [],
   "source": [
    "with open(\"supabase/seeder/user.sql\", \"w\") as f:\n",
    "    f.write(user_insert_sql + values_str + \";\")"
   ]
  },
  {
   "cell_type": "markdown",
   "id": "999f2097",
   "metadata": {},
   "source": [
    "## Tourism Place"
   ]
  },
  {
   "cell_type": "code",
   "execution_count": 97,
   "id": "fb5ce84d",
   "metadata": {},
   "outputs": [
    {
     "data": {
      "application/vnd.microsoft.datawrangler.viewer.v0+json": {
       "columns": [
        {
         "name": "index",
         "rawType": "int64",
         "type": "integer"
        },
        {
         "name": "Place_Id",
         "rawType": "int64",
         "type": "integer"
        },
        {
         "name": "Place_Name",
         "rawType": "object",
         "type": "string"
        },
        {
         "name": "Description",
         "rawType": "object",
         "type": "string"
        },
        {
         "name": "Category",
         "rawType": "object",
         "type": "string"
        },
        {
         "name": "City",
         "rawType": "object",
         "type": "string"
        },
        {
         "name": "Price",
         "rawType": "int64",
         "type": "integer"
        },
        {
         "name": "Rating",
         "rawType": "float64",
         "type": "float"
        },
        {
         "name": "Time_Minutes",
         "rawType": "float64",
         "type": "float"
        },
        {
         "name": "Coordinate",
         "rawType": "object",
         "type": "string"
        },
        {
         "name": "Lat",
         "rawType": "float64",
         "type": "float"
        },
        {
         "name": "Long",
         "rawType": "float64",
         "type": "float"
        },
        {
         "name": "Unnamed: 11",
         "rawType": "float64",
         "type": "float"
        },
        {
         "name": "Unnamed: 12",
         "rawType": "int64",
         "type": "integer"
        }
       ],
       "ref": "8f575f82-cac6-42c9-9e93-93a6819b91f1",
       "rows": [
        [
         "0",
         "1",
         "Monumen Nasional",
         "Monumen Nasional atau yang populer disingkat dengan Monas atau Tugu Monas adalah monumen peringatan setinggi 132 meter (433 kaki) yang didirikan untuk mengenang perlawanan dan perjuangan rakyat Indonesia untuk merebut kemerdekaan dari pemerintahan kolonial Hindia Belanda. Pembangunan monumen ini dimulai pada tanggal 17 Agustus 1961 di bawah perintah presiden Soekarno dan dibuka untuk umum pada tanggal 12 Juli 1975. Tugu ini dimahkotai lidah api yang dilapisi lembaran emas yang melambangkan semangat perjuangan yang menyala-nyala. Monumen Nasional terletak tepat di tengah Lapangan Medan Merdeka, Jakarta Pusat.",
         "Budaya",
         "Jakarta",
         "20000",
         "4.6",
         "15.0",
         "{'lat': -6.1753924, 'lng': 106.8271528}",
         "-6.1753924",
         "106.8271528",
         null,
         "1"
        ],
        [
         "1",
         "2",
         "Kota Tua",
         "Kota tua di Jakarta, yang juga bernama Kota Tua, berpusat di Alun-Alun Fatahillah, yaitu alun-alun yang ramai dengan pertunjukan rutin tarian tradisional. Museum Sejarah Jakarta adalah bangunan era Belanda dengan lukisan dan barang antik, sedangkan Museum Wayang memamerkan boneka kayu khas Jawa. Desa Glodok, atau Chinatown, terkenal dengan makanan kaki lima, seperti pangsit dan mi goreng. Di dekatnya, terdapat sekunar dan kapal penangkap ikan di pelabuhan Sunda Kelapa yang kuno",
         "Budaya",
         "Jakarta",
         "0",
         "4.6",
         "90.0",
         "{'lat': -6.137644799999999, 'lng': 106.8171245}",
         "-6.1376448",
         "106.8171245",
         null,
         "2"
        ],
        [
         "2",
         "3",
         "Dunia Fantasi",
         "Dunia Fantasi atau disebut juga Dufan adalah tempat hiburan yang terletak di kawasan Taman Impian Jaya Ancol, Jakarta Utara, Indonesia. Dufan diresmikan dan dibuka pada tanggal 29 Agustus 1985.",
         "Taman Hiburan",
         "Jakarta",
         "270000",
         "4.6",
         "360.0",
         "{'lat': -6.125312399999999, 'lng': 106.8335377}",
         "-6.1253124",
         "106.8335377",
         null,
         "3"
        ],
        [
         "3",
         "4",
         "Taman Mini Indonesia Indah (TMII)",
         "Taman Mini Indonesia Indah merupakan suatu kawasan taman wisata bertema budaya Indonesia di Jakarta Timur. Area seluas kurang lebih 150 hektare atau 1,5 kilometer persegi ini terletak pada koordinat 6°18′6.8″LS,106°53′47.2″BT",
         "Taman Hiburan",
         "Jakarta",
         "10000",
         "4.5",
         null,
         "{'lat': -6.302445899999999, 'lng': 106.8951559}",
         "-6.3024459",
         "106.8951559",
         null,
         "4"
        ],
        [
         "4",
         "5",
         "Atlantis Water Adventure",
         "Atlantis Water Adventure atau dikenal dengan Atlantis Ancol akan menyuguhkan petualangan wisata air tak terlupakan. Tempat Wisata bertemakan permainan air dengan luas 5 hektar ini memberi sensasi petualangan di 8 kolam utama. Yaitu kolam Antila, Plaza Atlas, Poseidon, Aquarius, Octopus, Kiddy Pool, dan Atlantean. Berlokasi di kawasan Ancol Jakarta Baycity, Atlantis bisa menjadi pilihan destinasi yang pas untuk wisata berenang.",
         "Taman Hiburan",
         "Jakarta",
         "94000",
         "4.5",
         "60.0",
         "{'lat': -6.12419, 'lng': 106.839134}",
         "-6.12419",
         "106.839134",
         null,
         "5"
        ]
       ],
       "shape": {
        "columns": 13,
        "rows": 5
       }
      },
      "text/html": [
       "<div>\n",
       "<style scoped>\n",
       "    .dataframe tbody tr th:only-of-type {\n",
       "        vertical-align: middle;\n",
       "    }\n",
       "\n",
       "    .dataframe tbody tr th {\n",
       "        vertical-align: top;\n",
       "    }\n",
       "\n",
       "    .dataframe thead th {\n",
       "        text-align: right;\n",
       "    }\n",
       "</style>\n",
       "<table border=\"1\" class=\"dataframe\">\n",
       "  <thead>\n",
       "    <tr style=\"text-align: right;\">\n",
       "      <th></th>\n",
       "      <th>Place_Id</th>\n",
       "      <th>Place_Name</th>\n",
       "      <th>Description</th>\n",
       "      <th>Category</th>\n",
       "      <th>City</th>\n",
       "      <th>Price</th>\n",
       "      <th>Rating</th>\n",
       "      <th>Time_Minutes</th>\n",
       "      <th>Coordinate</th>\n",
       "      <th>Lat</th>\n",
       "      <th>Long</th>\n",
       "      <th>Unnamed: 11</th>\n",
       "      <th>Unnamed: 12</th>\n",
       "    </tr>\n",
       "  </thead>\n",
       "  <tbody>\n",
       "    <tr>\n",
       "      <th>0</th>\n",
       "      <td>1</td>\n",
       "      <td>Monumen Nasional</td>\n",
       "      <td>Monumen Nasional atau yang populer disingkat d...</td>\n",
       "      <td>Budaya</td>\n",
       "      <td>Jakarta</td>\n",
       "      <td>20000</td>\n",
       "      <td>4.6</td>\n",
       "      <td>15.0</td>\n",
       "      <td>{'lat': -6.1753924, 'lng': 106.8271528}</td>\n",
       "      <td>-6.175392</td>\n",
       "      <td>106.827153</td>\n",
       "      <td>NaN</td>\n",
       "      <td>1</td>\n",
       "    </tr>\n",
       "    <tr>\n",
       "      <th>1</th>\n",
       "      <td>2</td>\n",
       "      <td>Kota Tua</td>\n",
       "      <td>Kota tua di Jakarta, yang juga bernama Kota Tu...</td>\n",
       "      <td>Budaya</td>\n",
       "      <td>Jakarta</td>\n",
       "      <td>0</td>\n",
       "      <td>4.6</td>\n",
       "      <td>90.0</td>\n",
       "      <td>{'lat': -6.137644799999999, 'lng': 106.8171245}</td>\n",
       "      <td>-6.137645</td>\n",
       "      <td>106.817125</td>\n",
       "      <td>NaN</td>\n",
       "      <td>2</td>\n",
       "    </tr>\n",
       "    <tr>\n",
       "      <th>2</th>\n",
       "      <td>3</td>\n",
       "      <td>Dunia Fantasi</td>\n",
       "      <td>Dunia Fantasi atau disebut juga Dufan adalah t...</td>\n",
       "      <td>Taman Hiburan</td>\n",
       "      <td>Jakarta</td>\n",
       "      <td>270000</td>\n",
       "      <td>4.6</td>\n",
       "      <td>360.0</td>\n",
       "      <td>{'lat': -6.125312399999999, 'lng': 106.8335377}</td>\n",
       "      <td>-6.125312</td>\n",
       "      <td>106.833538</td>\n",
       "      <td>NaN</td>\n",
       "      <td>3</td>\n",
       "    </tr>\n",
       "    <tr>\n",
       "      <th>3</th>\n",
       "      <td>4</td>\n",
       "      <td>Taman Mini Indonesia Indah (TMII)</td>\n",
       "      <td>Taman Mini Indonesia Indah merupakan suatu kaw...</td>\n",
       "      <td>Taman Hiburan</td>\n",
       "      <td>Jakarta</td>\n",
       "      <td>10000</td>\n",
       "      <td>4.5</td>\n",
       "      <td>NaN</td>\n",
       "      <td>{'lat': -6.302445899999999, 'lng': 106.8951559}</td>\n",
       "      <td>-6.302446</td>\n",
       "      <td>106.895156</td>\n",
       "      <td>NaN</td>\n",
       "      <td>4</td>\n",
       "    </tr>\n",
       "    <tr>\n",
       "      <th>4</th>\n",
       "      <td>5</td>\n",
       "      <td>Atlantis Water Adventure</td>\n",
       "      <td>Atlantis Water Adventure atau dikenal dengan A...</td>\n",
       "      <td>Taman Hiburan</td>\n",
       "      <td>Jakarta</td>\n",
       "      <td>94000</td>\n",
       "      <td>4.5</td>\n",
       "      <td>60.0</td>\n",
       "      <td>{'lat': -6.12419, 'lng': 106.839134}</td>\n",
       "      <td>-6.124190</td>\n",
       "      <td>106.839134</td>\n",
       "      <td>NaN</td>\n",
       "      <td>5</td>\n",
       "    </tr>\n",
       "  </tbody>\n",
       "</table>\n",
       "</div>"
      ],
      "text/plain": [
       "   Place_Id                         Place_Name  \\\n",
       "0         1                   Monumen Nasional   \n",
       "1         2                           Kota Tua   \n",
       "2         3                      Dunia Fantasi   \n",
       "3         4  Taman Mini Indonesia Indah (TMII)   \n",
       "4         5           Atlantis Water Adventure   \n",
       "\n",
       "                                         Description       Category     City  \\\n",
       "0  Monumen Nasional atau yang populer disingkat d...         Budaya  Jakarta   \n",
       "1  Kota tua di Jakarta, yang juga bernama Kota Tu...         Budaya  Jakarta   \n",
       "2  Dunia Fantasi atau disebut juga Dufan adalah t...  Taman Hiburan  Jakarta   \n",
       "3  Taman Mini Indonesia Indah merupakan suatu kaw...  Taman Hiburan  Jakarta   \n",
       "4  Atlantis Water Adventure atau dikenal dengan A...  Taman Hiburan  Jakarta   \n",
       "\n",
       "    Price  Rating  Time_Minutes  \\\n",
       "0   20000     4.6          15.0   \n",
       "1       0     4.6          90.0   \n",
       "2  270000     4.6         360.0   \n",
       "3   10000     4.5           NaN   \n",
       "4   94000     4.5          60.0   \n",
       "\n",
       "                                        Coordinate       Lat        Long  \\\n",
       "0          {'lat': -6.1753924, 'lng': 106.8271528} -6.175392  106.827153   \n",
       "1  {'lat': -6.137644799999999, 'lng': 106.8171245} -6.137645  106.817125   \n",
       "2  {'lat': -6.125312399999999, 'lng': 106.8335377} -6.125312  106.833538   \n",
       "3  {'lat': -6.302445899999999, 'lng': 106.8951559} -6.302446  106.895156   \n",
       "4             {'lat': -6.12419, 'lng': 106.839134} -6.124190  106.839134   \n",
       "\n",
       "   Unnamed: 11  Unnamed: 12  \n",
       "0          NaN            1  \n",
       "1          NaN            2  \n",
       "2          NaN            3  \n",
       "3          NaN            4  \n",
       "4          NaN            5  "
      ]
     },
     "execution_count": 97,
     "metadata": {},
     "output_type": "execute_result"
    }
   ],
   "source": [
    "df['tourism_with_id'].head()"
   ]
  },
  {
   "cell_type": "code",
   "execution_count": 104,
   "id": "af1a05b5",
   "metadata": {},
   "outputs": [
    {
     "data": {
      "text/plain": [
       "Index(['Place_Id', 'Place_Name', 'Description', 'Category', 'City', 'Price',\n",
       "       'Rating', 'Time_Minutes', 'Coordinate', 'Lat', 'Long', 'Unnamed: 11',\n",
       "       'Unnamed: 12'],\n",
       "      dtype='object')"
      ]
     },
     "execution_count": 104,
     "metadata": {},
     "output_type": "execute_result"
    }
   ],
   "source": [
    "df['tourism_with_id'].columns "
   ]
  },
  {
   "cell_type": "code",
   "execution_count": 107,
   "id": "713a77ac",
   "metadata": {},
   "outputs": [
    {
     "data": {
      "application/vnd.microsoft.datawrangler.viewer.v0+json": {
       "columns": [
        {
         "name": "City",
         "rawType": "object",
         "type": "string"
        },
        {
         "name": "count",
         "rawType": "int64",
         "type": "integer"
        }
       ],
       "ref": "dcb8e880-e9a4-437d-8945-9c53ac1adf19",
       "rows": [
        [
         "Yogyakarta",
         "126"
        ],
        [
         "Bandung",
         "124"
        ],
        [
         "Jakarta",
         "84"
        ],
        [
         "Semarang",
         "57"
        ],
        [
         "Surabaya",
         "46"
        ]
       ],
       "shape": {
        "columns": 1,
        "rows": 5
       }
      },
      "text/plain": [
       "City\n",
       "Yogyakarta    126\n",
       "Bandung       124\n",
       "Jakarta        84\n",
       "Semarang       57\n",
       "Surabaya       46\n",
       "Name: count, dtype: int64"
      ]
     },
     "execution_count": 107,
     "metadata": {},
     "output_type": "execute_result"
    }
   ],
   "source": [
    "df['tourism_with_id']['City'].value_counts()"
   ]
  },
  {
   "cell_type": "code",
   "execution_count": 108,
   "id": "189ef7dd",
   "metadata": {},
   "outputs": [],
   "source": [
    "city_province_mapping = {\n",
    "    \"Jakarta\" : \"Jakarta\",\n",
    "    \"Bandung\" : \"Jawa Barat\",\n",
    "    \"Yogyakarta\" : \"Yogyakarta\",\n",
    "    \"Surabaya\" : \"Jawa Timur\",\n",
    "    \"Semarang\" : \"Jawa Tengah\"\n",
    "}"
   ]
  },
  {
   "cell_type": "code",
   "execution_count": 109,
   "id": "2543a2b6",
   "metadata": {},
   "outputs": [],
   "source": [
    "df['tourism_with_id']['Province'] = df['tourism_with_id']['City'].apply(\n",
    "    lambda city: city_province_mapping.get(city, \"Unknown\")\n",
    ")"
   ]
  },
  {
   "cell_type": "code",
   "execution_count": 123,
   "id": "3f75f988",
   "metadata": {},
   "outputs": [],
   "source": [
    "place_insert_sql = \"\"\"\n",
    "insert into public.place (\n",
    "  place_id,\n",
    "  place_name,\n",
    "  description,\n",
    "  category,\n",
    "  province,\n",
    "  price,\n",
    "  rating,\n",
    "  time_minutes,\n",
    "  latitude,\n",
    "  longitude\n",
    ") values\n",
    "\"\"\"\n",
    "\n",
    "def escape_sql(value):\n",
    "    if isinstance(value, str):\n",
    "        return value.replace(\"'\", \"''\")\n",
    "    return value\n",
    "rows = []\n",
    "for _, row in df['tourism_with_id'].iterrows():\n",
    "    rows.append(\n",
    "    f\"({row['Place_Id']}, \"\n",
    "    f\"'{escape_sql(row['Place_Name'])}', \"\n",
    "    f\"'{escape_sql(row['Description'])}', \"\n",
    "    f\"'{escape_sql(row['Category'])}', \"\n",
    "    f\"'{escape_sql(row['City'])}', \"\n",
    "    f\"{row['Price'] if pd.notnull(row['Price']) else 'NULL'}, \"\n",
    "    f\"{row['Rating'] if pd.notnull(row['Rating']) else 'NULL'}, \"\n",
    "    f\"{row['Time_Minutes'] if pd.notnull(row['Time_Minutes']) else 'NULL'}, \"\n",
    "    f\"{row['Lat']}, \"\n",
    "    f\"{row['Long']}\"\n",
    "    \")\"\n",
    ")\n",
    "values_str = \",\\n\".join(rows)\n",
    "\n",
    "with open(\"supabase/seeder/place.sql\", \"w\") as f:\n",
    "    f.write(place_insert_sql + values_str + \";\")"
   ]
  }
 ],
 "metadata": {
  "kernelspec": {
   "display_name": "supabase-python-seeder (3.12.11)",
   "language": "python",
   "name": "python3"
  },
  "language_info": {
   "codemirror_mode": {
    "name": "ipython",
    "version": 3
   },
   "file_extension": ".py",
   "mimetype": "text/x-python",
   "name": "python",
   "nbconvert_exporter": "python",
   "pygments_lexer": "ipython3",
   "version": "3.12.11"
  }
 },
 "nbformat": 4,
 "nbformat_minor": 5
}
