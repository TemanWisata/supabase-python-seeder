{
 "cells": [
  {
   "cell_type": "code",
   "execution_count": 2,
   "id": "b6879ac3",
   "metadata": {},
   "outputs": [],
   "source": [
    "import difflib\n",
    "import glob\n",
    "from pprint import pprint\n",
    "from pathlib import Path\n",
    "import string\n",
    "import random\n",
    "\n",
    "import pandas as pd\n",
    "from argon2 import PasswordHasher\n",
    "from faker import Faker\n",
    "\n",
    "from config import CONFIG\n",
    "from utils import Utils"
   ]
  },
  {
   "cell_type": "code",
   "execution_count": 3,
   "id": "da7f00f8",
   "metadata": {},
   "outputs": [
    {
     "name": "stdout",
     "output_type": "stream",
     "text": [
      "(\"Datasets:[PosixPath('datasets/aprabowo/indonesia-tourism-destination/versions/1/package_tourism.csv'), \"\n",
      " \"PosixPath('datasets/aprabowo/indonesia-tourism-destination/versions/1/tourism_rating.csv'), \"\n",
      " \"PosixPath('datasets/aprabowo/indonesia-tourism-destination/versions/1/user.csv'), \"\n",
      " \"PosixPath('datasets/aprabowo/indonesia-tourism-destination/versions/1/tourism_with_id.csv')]\")\n"
     ]
    }
   ],
   "source": [
    "DATASET_PATH = str((\"datasets/*/*/*/*/*\"))\n",
    "datasets = list(map(lambda x: Path(x), glob.glob(DATASET_PATH)))\n",
    "\n",
    "pprint(f\"Datasets:{datasets}\")"
   ]
  },
  {
   "cell_type": "code",
   "execution_count": 4,
   "id": "6c53bf4c",
   "metadata": {},
   "outputs": [
    {
     "name": "stdout",
     "output_type": "stream",
     "text": [
      "dict_keys(['package_tourism', 'tourism_rating', 'user', 'tourism_with_id'])\n"
     ]
    }
   ],
   "source": [
    "df = {data_path.stem: pd.read_csv(data_path) for data_path in datasets}\n",
    "print(df.keys())"
   ]
  },
  {
   "cell_type": "markdown",
   "id": "822f3079",
   "metadata": {},
   "source": [
    "## User Data"
   ]
  },
  {
   "cell_type": "code",
   "execution_count": 5,
   "id": "70fea7cd",
   "metadata": {},
   "outputs": [
    {
     "data": {
      "application/vnd.microsoft.datawrangler.viewer.v0+json": {
       "columns": [
        {
         "name": "index",
         "rawType": "int64",
         "type": "integer"
        },
        {
         "name": "User_Id",
         "rawType": "int64",
         "type": "integer"
        },
        {
         "name": "Location",
         "rawType": "object",
         "type": "string"
        },
        {
         "name": "Age",
         "rawType": "int64",
         "type": "integer"
        }
       ],
       "ref": "02dba7c3-e8d8-4ded-adce-63649bf6e522",
       "rows": [
        [
         "0",
         "1",
         "Semarang, Jawa Tengah",
         "20"
        ],
        [
         "1",
         "2",
         "Bekasi, Jawa Barat",
         "21"
        ],
        [
         "2",
         "3",
         "Cirebon, Jawa Barat",
         "23"
        ],
        [
         "3",
         "4",
         "Bekasi, Jawa Barat",
         "21"
        ],
        [
         "4",
         "5",
         "Lampung, Sumatera Selatan",
         "20"
        ]
       ],
       "shape": {
        "columns": 3,
        "rows": 5
       }
      },
      "text/html": [
       "<div>\n",
       "<style scoped>\n",
       "    .dataframe tbody tr th:only-of-type {\n",
       "        vertical-align: middle;\n",
       "    }\n",
       "\n",
       "    .dataframe tbody tr th {\n",
       "        vertical-align: top;\n",
       "    }\n",
       "\n",
       "    .dataframe thead th {\n",
       "        text-align: right;\n",
       "    }\n",
       "</style>\n",
       "<table border=\"1\" class=\"dataframe\">\n",
       "  <thead>\n",
       "    <tr style=\"text-align: right;\">\n",
       "      <th></th>\n",
       "      <th>User_Id</th>\n",
       "      <th>Location</th>\n",
       "      <th>Age</th>\n",
       "    </tr>\n",
       "  </thead>\n",
       "  <tbody>\n",
       "    <tr>\n",
       "      <th>0</th>\n",
       "      <td>1</td>\n",
       "      <td>Semarang, Jawa Tengah</td>\n",
       "      <td>20</td>\n",
       "    </tr>\n",
       "    <tr>\n",
       "      <th>1</th>\n",
       "      <td>2</td>\n",
       "      <td>Bekasi, Jawa Barat</td>\n",
       "      <td>21</td>\n",
       "    </tr>\n",
       "    <tr>\n",
       "      <th>2</th>\n",
       "      <td>3</td>\n",
       "      <td>Cirebon, Jawa Barat</td>\n",
       "      <td>23</td>\n",
       "    </tr>\n",
       "    <tr>\n",
       "      <th>3</th>\n",
       "      <td>4</td>\n",
       "      <td>Bekasi, Jawa Barat</td>\n",
       "      <td>21</td>\n",
       "    </tr>\n",
       "    <tr>\n",
       "      <th>4</th>\n",
       "      <td>5</td>\n",
       "      <td>Lampung, Sumatera Selatan</td>\n",
       "      <td>20</td>\n",
       "    </tr>\n",
       "  </tbody>\n",
       "</table>\n",
       "</div>"
      ],
      "text/plain": [
       "   User_Id                   Location  Age\n",
       "0        1      Semarang, Jawa Tengah   20\n",
       "1        2         Bekasi, Jawa Barat   21\n",
       "2        3        Cirebon, Jawa Barat   23\n",
       "3        4         Bekasi, Jawa Barat   21\n",
       "4        5  Lampung, Sumatera Selatan   20"
      ]
     },
     "execution_count": 5,
     "metadata": {},
     "output_type": "execute_result"
    }
   ],
   "source": [
    "df[\"user\"].head()"
   ]
  },
  {
   "cell_type": "code",
   "execution_count": 6,
   "id": "8935af20",
   "metadata": {},
   "outputs": [
    {
     "data": {
      "application/vnd.microsoft.datawrangler.viewer.v0+json": {
       "columns": [
        {
         "name": "index",
         "rawType": "int64",
         "type": "integer"
        },
        {
         "name": "User_Id",
         "rawType": "int64",
         "type": "integer"
        },
        {
         "name": "Location",
         "rawType": "object",
         "type": "string"
        },
        {
         "name": "Age",
         "rawType": "int64",
         "type": "integer"
        },
        {
         "name": "dob",
         "rawType": "object",
         "type": "unknown"
        }
       ],
       "ref": "ca213bef-da53-4edf-8ab7-ee325b92e185",
       "rows": [
        [
         "0",
         "1",
         "Semarang, Jawa Tengah",
         "20",
         "2006-01-12"
        ],
        [
         "1",
         "2",
         "Bekasi, Jawa Barat",
         "21",
         "2005-04-22"
        ],
        [
         "2",
         "3",
         "Cirebon, Jawa Barat",
         "23",
         "2003-04-14"
        ],
        [
         "3",
         "4",
         "Bekasi, Jawa Barat",
         "21",
         "2005-05-25"
        ],
        [
         "4",
         "5",
         "Lampung, Sumatera Selatan",
         "20",
         "2006-01-03"
        ]
       ],
       "shape": {
        "columns": 4,
        "rows": 5
       }
      },
      "text/html": [
       "<div>\n",
       "<style scoped>\n",
       "    .dataframe tbody tr th:only-of-type {\n",
       "        vertical-align: middle;\n",
       "    }\n",
       "\n",
       "    .dataframe tbody tr th {\n",
       "        vertical-align: top;\n",
       "    }\n",
       "\n",
       "    .dataframe thead th {\n",
       "        text-align: right;\n",
       "    }\n",
       "</style>\n",
       "<table border=\"1\" class=\"dataframe\">\n",
       "  <thead>\n",
       "    <tr style=\"text-align: right;\">\n",
       "      <th></th>\n",
       "      <th>User_Id</th>\n",
       "      <th>Location</th>\n",
       "      <th>Age</th>\n",
       "      <th>dob</th>\n",
       "    </tr>\n",
       "  </thead>\n",
       "  <tbody>\n",
       "    <tr>\n",
       "      <th>0</th>\n",
       "      <td>1</td>\n",
       "      <td>Semarang, Jawa Tengah</td>\n",
       "      <td>20</td>\n",
       "      <td>2006-01-12</td>\n",
       "    </tr>\n",
       "    <tr>\n",
       "      <th>1</th>\n",
       "      <td>2</td>\n",
       "      <td>Bekasi, Jawa Barat</td>\n",
       "      <td>21</td>\n",
       "      <td>2005-04-22</td>\n",
       "    </tr>\n",
       "    <tr>\n",
       "      <th>2</th>\n",
       "      <td>3</td>\n",
       "      <td>Cirebon, Jawa Barat</td>\n",
       "      <td>23</td>\n",
       "      <td>2003-04-14</td>\n",
       "    </tr>\n",
       "    <tr>\n",
       "      <th>3</th>\n",
       "      <td>4</td>\n",
       "      <td>Bekasi, Jawa Barat</td>\n",
       "      <td>21</td>\n",
       "      <td>2005-05-25</td>\n",
       "    </tr>\n",
       "    <tr>\n",
       "      <th>4</th>\n",
       "      <td>5</td>\n",
       "      <td>Lampung, Sumatera Selatan</td>\n",
       "      <td>20</td>\n",
       "      <td>2006-01-03</td>\n",
       "    </tr>\n",
       "  </tbody>\n",
       "</table>\n",
       "</div>"
      ],
      "text/plain": [
       "   User_Id                   Location  Age         dob\n",
       "0        1      Semarang, Jawa Tengah   20  2006-01-12\n",
       "1        2         Bekasi, Jawa Barat   21  2005-04-22\n",
       "2        3        Cirebon, Jawa Barat   23  2003-04-14\n",
       "3        4         Bekasi, Jawa Barat   21  2005-05-25\n",
       "4        5  Lampung, Sumatera Selatan   20  2006-01-03"
      ]
     },
     "execution_count": 6,
     "metadata": {},
     "output_type": "execute_result"
    }
   ],
   "source": [
    "df[\"user\"][\"dob\"] = df[\"user\"][\"Age\"].apply(\n",
    "    lambda age: Utils.calculate_dob_from_age(age)\n",
    ")\n",
    "df[\"user\"].head()"
   ]
  },
  {
   "cell_type": "code",
   "execution_count": 7,
   "id": "1edace70",
   "metadata": {},
   "outputs": [
    {
     "data": {
      "application/vnd.microsoft.datawrangler.viewer.v0+json": {
       "columns": [
        {
         "name": "index",
         "rawType": "int64",
         "type": "integer"
        },
        {
         "name": "User_Id",
         "rawType": "int64",
         "type": "integer"
        },
        {
         "name": "Location",
         "rawType": "object",
         "type": "string"
        },
        {
         "name": "Age",
         "rawType": "int64",
         "type": "integer"
        },
        {
         "name": "dob",
         "rawType": "object",
         "type": "unknown"
        },
        {
         "name": "Province",
         "rawType": "object",
         "type": "string"
        }
       ],
       "ref": "d4e4f790-da0f-4709-861f-044f80f14e8d",
       "rows": [
        [
         "0",
         "1",
         "Semarang, Jawa Tengah",
         "20",
         "2006-01-12",
         "Jawa Tengah"
        ],
        [
         "1",
         "2",
         "Bekasi, Jawa Barat",
         "21",
         "2005-04-22",
         "Jawa Barat"
        ],
        [
         "2",
         "3",
         "Cirebon, Jawa Barat",
         "23",
         "2003-04-14",
         "Jawa Barat"
        ],
        [
         "3",
         "4",
         "Bekasi, Jawa Barat",
         "21",
         "2005-05-25",
         "Jawa Barat"
        ],
        [
         "4",
         "5",
         "Lampung, Sumatera Selatan",
         "20",
         "2006-01-03",
         "Sumatera Selatan"
        ]
       ],
       "shape": {
        "columns": 5,
        "rows": 5
       }
      },
      "text/html": [
       "<div>\n",
       "<style scoped>\n",
       "    .dataframe tbody tr th:only-of-type {\n",
       "        vertical-align: middle;\n",
       "    }\n",
       "\n",
       "    .dataframe tbody tr th {\n",
       "        vertical-align: top;\n",
       "    }\n",
       "\n",
       "    .dataframe thead th {\n",
       "        text-align: right;\n",
       "    }\n",
       "</style>\n",
       "<table border=\"1\" class=\"dataframe\">\n",
       "  <thead>\n",
       "    <tr style=\"text-align: right;\">\n",
       "      <th></th>\n",
       "      <th>User_Id</th>\n",
       "      <th>Location</th>\n",
       "      <th>Age</th>\n",
       "      <th>dob</th>\n",
       "      <th>Province</th>\n",
       "    </tr>\n",
       "  </thead>\n",
       "  <tbody>\n",
       "    <tr>\n",
       "      <th>0</th>\n",
       "      <td>1</td>\n",
       "      <td>Semarang, Jawa Tengah</td>\n",
       "      <td>20</td>\n",
       "      <td>2006-01-12</td>\n",
       "      <td>Jawa Tengah</td>\n",
       "    </tr>\n",
       "    <tr>\n",
       "      <th>1</th>\n",
       "      <td>2</td>\n",
       "      <td>Bekasi, Jawa Barat</td>\n",
       "      <td>21</td>\n",
       "      <td>2005-04-22</td>\n",
       "      <td>Jawa Barat</td>\n",
       "    </tr>\n",
       "    <tr>\n",
       "      <th>2</th>\n",
       "      <td>3</td>\n",
       "      <td>Cirebon, Jawa Barat</td>\n",
       "      <td>23</td>\n",
       "      <td>2003-04-14</td>\n",
       "      <td>Jawa Barat</td>\n",
       "    </tr>\n",
       "    <tr>\n",
       "      <th>3</th>\n",
       "      <td>4</td>\n",
       "      <td>Bekasi, Jawa Barat</td>\n",
       "      <td>21</td>\n",
       "      <td>2005-05-25</td>\n",
       "      <td>Jawa Barat</td>\n",
       "    </tr>\n",
       "    <tr>\n",
       "      <th>4</th>\n",
       "      <td>5</td>\n",
       "      <td>Lampung, Sumatera Selatan</td>\n",
       "      <td>20</td>\n",
       "      <td>2006-01-03</td>\n",
       "      <td>Sumatera Selatan</td>\n",
       "    </tr>\n",
       "  </tbody>\n",
       "</table>\n",
       "</div>"
      ],
      "text/plain": [
       "   User_Id                   Location  Age         dob          Province\n",
       "0        1      Semarang, Jawa Tengah   20  2006-01-12       Jawa Tengah\n",
       "1        2         Bekasi, Jawa Barat   21  2005-04-22        Jawa Barat\n",
       "2        3        Cirebon, Jawa Barat   23  2003-04-14        Jawa Barat\n",
       "3        4         Bekasi, Jawa Barat   21  2005-05-25        Jawa Barat\n",
       "4        5  Lampung, Sumatera Selatan   20  2006-01-03  Sumatera Selatan"
      ]
     },
     "execution_count": 7,
     "metadata": {},
     "output_type": "execute_result"
    }
   ],
   "source": [
    "df[\"user\"][\"Province\"] = df[\"user\"][\"Location\"].apply(\n",
    "    lambda x: x.split(\",\")[1].strip() if pd.notnull(x) else x\n",
    ")\n",
    "df[\"user\"].head()"
   ]
  },
  {
   "cell_type": "code",
   "execution_count": 8,
   "id": "087327a7",
   "metadata": {},
   "outputs": [],
   "source": [
    "password = CONFIG.USER_STARTER_PASSWORD.get_secret_value()  # type: ignore\n"
   ]
  },
  {
   "cell_type": "code",
   "execution_count": 9,
   "id": "6c74a9cb",
   "metadata": {},
   "outputs": [],
   "source": [
    "ph = PasswordHasher()"
   ]
  },
  {
   "cell_type": "code",
   "execution_count": 10,
   "id": "1338d9f3",
   "metadata": {},
   "outputs": [],
   "source": [
    "hashed = ph.hash(password)"
   ]
  },
  {
   "cell_type": "code",
   "execution_count": 11,
   "id": "07b0645d",
   "metadata": {},
   "outputs": [
    {
     "data": {
      "text/plain": [
       "True"
      ]
     },
     "execution_count": 11,
     "metadata": {},
     "output_type": "execute_result"
    }
   ],
   "source": [
    "ph.verify(hashed, password)"
   ]
  },
  {
   "cell_type": "code",
   "execution_count": 12,
   "id": "9e280416",
   "metadata": {},
   "outputs": [],
   "source": [
    "df[\"user\"][\"password\"] = hashed"
   ]
  },
  {
   "cell_type": "code",
   "execution_count": 13,
   "id": "2525c67f",
   "metadata": {},
   "outputs": [],
   "source": [
    "fake = Faker(\"id_ID\")"
   ]
  },
  {
   "cell_type": "code",
   "execution_count": 14,
   "id": "217e91d7",
   "metadata": {},
   "outputs": [
    {
     "data": {
      "application/vnd.microsoft.datawrangler.viewer.v0+json": {
       "columns": [
        {
         "name": "index",
         "rawType": "int64",
         "type": "integer"
        },
        {
         "name": "User_Id",
         "rawType": "int64",
         "type": "integer"
        },
        {
         "name": "Location",
         "rawType": "object",
         "type": "string"
        },
        {
         "name": "Age",
         "rawType": "int64",
         "type": "integer"
        },
        {
         "name": "dob",
         "rawType": "object",
         "type": "unknown"
        },
        {
         "name": "Province",
         "rawType": "object",
         "type": "string"
        },
        {
         "name": "password",
         "rawType": "object",
         "type": "string"
        },
        {
         "name": "full_name",
         "rawType": "object",
         "type": "string"
        },
        {
         "name": "username",
         "rawType": "object",
         "type": "string"
        }
       ],
       "ref": "5da0998c-7033-4599-a021-d133a97b5fc2",
       "rows": [
        [
         "0",
         "1",
         "Semarang, Jawa Tengah",
         "20",
         "2006-01-12",
         "Jawa Tengah",
         "$argon2id$v=19$m=65536,t=3,p=4$xsNQzcNm8A3zz71nxZdCEQ$7W8/zJzfp7oTswabbnPwE1rSz2InA6laEwwW0gCaZ/g",
         "KH. Harsanto Safitri, S.I.Kom",
         "khharsan88"
        ],
        [
         "1",
         "2",
         "Bekasi, Jawa Barat",
         "21",
         "2005-04-22",
         "Jawa Barat",
         "$argon2id$v=19$m=65536,t=3,p=4$xsNQzcNm8A3zz71nxZdCEQ$7W8/zJzfp7oTswabbnPwE1rSz2InA6laEwwW0gCaZ/g",
         "Vera Rajasa",
         "verarajas93"
        ],
        [
         "2",
         "3",
         "Cirebon, Jawa Barat",
         "23",
         "2003-04-14",
         "Jawa Barat",
         "$argon2id$v=19$m=65536,t=3,p=4$xsNQzcNm8A3zz71nxZdCEQ$7W8/zJzfp7oTswabbnPwE1rSz2InA6laEwwW0gCaZ/g",
         "H. Satya Nasyidah, S.Pd",
         "hsatyan23"
        ],
        [
         "3",
         "4",
         "Bekasi, Jawa Barat",
         "21",
         "2005-05-25",
         "Jawa Barat",
         "$argon2id$v=19$m=65536,t=3,p=4$xsNQzcNm8A3zz71nxZdCEQ$7W8/zJzfp7oTswabbnPwE1rSz2InA6laEwwW0gCaZ/g",
         "Shania Mahendra",
         "shaniamah11"
        ],
        [
         "4",
         "5",
         "Lampung, Sumatera Selatan",
         "20",
         "2006-01-03",
         "Sumatera Selatan",
         "$argon2id$v=19$m=65536,t=3,p=4$xsNQzcNm8A3zz71nxZdCEQ$7W8/zJzfp7oTswabbnPwE1rSz2InA6laEwwW0gCaZ/g",
         "Diah Adriansyah",
         "diahadria41"
        ]
       ],
       "shape": {
        "columns": 8,
        "rows": 5
       }
      },
      "text/html": [
       "<div>\n",
       "<style scoped>\n",
       "    .dataframe tbody tr th:only-of-type {\n",
       "        vertical-align: middle;\n",
       "    }\n",
       "\n",
       "    .dataframe tbody tr th {\n",
       "        vertical-align: top;\n",
       "    }\n",
       "\n",
       "    .dataframe thead th {\n",
       "        text-align: right;\n",
       "    }\n",
       "</style>\n",
       "<table border=\"1\" class=\"dataframe\">\n",
       "  <thead>\n",
       "    <tr style=\"text-align: right;\">\n",
       "      <th></th>\n",
       "      <th>User_Id</th>\n",
       "      <th>Location</th>\n",
       "      <th>Age</th>\n",
       "      <th>dob</th>\n",
       "      <th>Province</th>\n",
       "      <th>password</th>\n",
       "      <th>full_name</th>\n",
       "      <th>username</th>\n",
       "    </tr>\n",
       "  </thead>\n",
       "  <tbody>\n",
       "    <tr>\n",
       "      <th>0</th>\n",
       "      <td>1</td>\n",
       "      <td>Semarang, Jawa Tengah</td>\n",
       "      <td>20</td>\n",
       "      <td>2006-01-12</td>\n",
       "      <td>Jawa Tengah</td>\n",
       "      <td>$argon2id$v=19$m=65536,t=3,p=4$xsNQzcNm8A3zz71...</td>\n",
       "      <td>KH. Harsanto Safitri, S.I.Kom</td>\n",
       "      <td>khharsan88</td>\n",
       "    </tr>\n",
       "    <tr>\n",
       "      <th>1</th>\n",
       "      <td>2</td>\n",
       "      <td>Bekasi, Jawa Barat</td>\n",
       "      <td>21</td>\n",
       "      <td>2005-04-22</td>\n",
       "      <td>Jawa Barat</td>\n",
       "      <td>$argon2id$v=19$m=65536,t=3,p=4$xsNQzcNm8A3zz71...</td>\n",
       "      <td>Vera Rajasa</td>\n",
       "      <td>verarajas93</td>\n",
       "    </tr>\n",
       "    <tr>\n",
       "      <th>2</th>\n",
       "      <td>3</td>\n",
       "      <td>Cirebon, Jawa Barat</td>\n",
       "      <td>23</td>\n",
       "      <td>2003-04-14</td>\n",
       "      <td>Jawa Barat</td>\n",
       "      <td>$argon2id$v=19$m=65536,t=3,p=4$xsNQzcNm8A3zz71...</td>\n",
       "      <td>H. Satya Nasyidah, S.Pd</td>\n",
       "      <td>hsatyan23</td>\n",
       "    </tr>\n",
       "    <tr>\n",
       "      <th>3</th>\n",
       "      <td>4</td>\n",
       "      <td>Bekasi, Jawa Barat</td>\n",
       "      <td>21</td>\n",
       "      <td>2005-05-25</td>\n",
       "      <td>Jawa Barat</td>\n",
       "      <td>$argon2id$v=19$m=65536,t=3,p=4$xsNQzcNm8A3zz71...</td>\n",
       "      <td>Shania Mahendra</td>\n",
       "      <td>shaniamah11</td>\n",
       "    </tr>\n",
       "    <tr>\n",
       "      <th>4</th>\n",
       "      <td>5</td>\n",
       "      <td>Lampung, Sumatera Selatan</td>\n",
       "      <td>20</td>\n",
       "      <td>2006-01-03</td>\n",
       "      <td>Sumatera Selatan</td>\n",
       "      <td>$argon2id$v=19$m=65536,t=3,p=4$xsNQzcNm8A3zz71...</td>\n",
       "      <td>Diah Adriansyah</td>\n",
       "      <td>diahadria41</td>\n",
       "    </tr>\n",
       "  </tbody>\n",
       "</table>\n",
       "</div>"
      ],
      "text/plain": [
       "   User_Id                   Location  Age         dob          Province  \\\n",
       "0        1      Semarang, Jawa Tengah   20  2006-01-12       Jawa Tengah   \n",
       "1        2         Bekasi, Jawa Barat   21  2005-04-22        Jawa Barat   \n",
       "2        3        Cirebon, Jawa Barat   23  2003-04-14        Jawa Barat   \n",
       "3        4         Bekasi, Jawa Barat   21  2005-05-25        Jawa Barat   \n",
       "4        5  Lampung, Sumatera Selatan   20  2006-01-03  Sumatera Selatan   \n",
       "\n",
       "                                            password  \\\n",
       "0  $argon2id$v=19$m=65536,t=3,p=4$xsNQzcNm8A3zz71...   \n",
       "1  $argon2id$v=19$m=65536,t=3,p=4$xsNQzcNm8A3zz71...   \n",
       "2  $argon2id$v=19$m=65536,t=3,p=4$xsNQzcNm8A3zz71...   \n",
       "3  $argon2id$v=19$m=65536,t=3,p=4$xsNQzcNm8A3zz71...   \n",
       "4  $argon2id$v=19$m=65536,t=3,p=4$xsNQzcNm8A3zz71...   \n",
       "\n",
       "                       full_name     username  \n",
       "0  KH. Harsanto Safitri, S.I.Kom   khharsan88  \n",
       "1                    Vera Rajasa  verarajas93  \n",
       "2        H. Satya Nasyidah, S.Pd    hsatyan23  \n",
       "3                Shania Mahendra  shaniamah11  \n",
       "4                Diah Adriansyah  diahadria41  "
      ]
     },
     "execution_count": 14,
     "metadata": {},
     "output_type": "execute_result"
    }
   ],
   "source": [
    "df[\"user\"][\"full_name\"] = df[\"user\"].apply(lambda row: fake.name(), axis=1)\n",
    "df[\"user\"][\"username\"] = df[\"user\"][\"full_name\"].apply(\n",
    "    lambda name: name[:10]\n",
    "    .lower()\n",
    "    .replace(\" \", \"_\")\n",
    "    .translate(str.maketrans(\"\", \"\", string.punctuation))\n",
    "    + str(random.randint(10, 99))\n",
    ")\n",
    "df[\"user\"].head()"
   ]
  },
  {
   "cell_type": "code",
   "execution_count": 15,
   "id": "66117e20",
   "metadata": {},
   "outputs": [],
   "source": [
    "user_insert_sql = \"\"\"\n",
    "insert into public.users (\n",
    "  user_id,\n",
    "  username,\n",
    "  full_name,\n",
    "  password,\n",
    "  dob,\n",
    "  province\n",
    ") values\n",
    "\"\"\""
   ]
  },
  {
   "cell_type": "code",
   "execution_count": 16,
   "id": "310f7d44",
   "metadata": {},
   "outputs": [
    {
     "data": {
      "text/plain": [
       "(300, 300)"
      ]
     },
     "execution_count": 16,
     "metadata": {},
     "output_type": "execute_result"
    }
   ],
   "source": [
    "len(df[\"user\"].drop_duplicates()), len(df[\"user\"])"
   ]
  },
  {
   "cell_type": "code",
   "execution_count": 17,
   "id": "11c56299",
   "metadata": {},
   "outputs": [],
   "source": [
    "rows = []\n",
    "for _, row in df[\"user\"].drop_duplicates().iterrows():\n",
    "    rows.append(\n",
    "        f\"({row['User_Id']}, '{row['username']}', '{row['full_name']}', '{row['password']}', '{row['dob']}', '{row['Province']}')\"\n",
    "    )\n",
    "values_str = \",\\n\".join(rows)"
   ]
  },
  {
   "cell_type": "code",
   "execution_count": 18,
   "id": "806bc07d",
   "metadata": {},
   "outputs": [],
   "source": [
    "with open(\"supabase/seeder/user.sql\", \"w\") as f:\n",
    "    f.write(user_insert_sql + values_str + \";\")"
   ]
  },
  {
   "cell_type": "markdown",
   "id": "999f2097",
   "metadata": {},
   "source": [
    "## Tourism Place"
   ]
  },
  {
   "cell_type": "code",
   "execution_count": 19,
   "id": "fb5ce84d",
   "metadata": {},
   "outputs": [
    {
     "data": {
      "application/vnd.microsoft.datawrangler.viewer.v0+json": {
       "columns": [
        {
         "name": "index",
         "rawType": "int64",
         "type": "integer"
        },
        {
         "name": "Place_Id",
         "rawType": "int64",
         "type": "integer"
        },
        {
         "name": "Place_Name",
         "rawType": "object",
         "type": "string"
        },
        {
         "name": "Description",
         "rawType": "object",
         "type": "string"
        },
        {
         "name": "Category",
         "rawType": "object",
         "type": "string"
        },
        {
         "name": "City",
         "rawType": "object",
         "type": "string"
        },
        {
         "name": "Price",
         "rawType": "int64",
         "type": "integer"
        },
        {
         "name": "Rating",
         "rawType": "float64",
         "type": "float"
        },
        {
         "name": "Time_Minutes",
         "rawType": "float64",
         "type": "float"
        },
        {
         "name": "Coordinate",
         "rawType": "object",
         "type": "string"
        },
        {
         "name": "Lat",
         "rawType": "float64",
         "type": "float"
        },
        {
         "name": "Long",
         "rawType": "float64",
         "type": "float"
        },
        {
         "name": "Unnamed: 11",
         "rawType": "float64",
         "type": "float"
        },
        {
         "name": "Unnamed: 12",
         "rawType": "int64",
         "type": "integer"
        }
       ],
       "ref": "bccfdf8f-12b0-488a-b7b5-ee3128873f09",
       "rows": [
        [
         "0",
         "1",
         "Monumen Nasional",
         "Monumen Nasional atau yang populer disingkat dengan Monas atau Tugu Monas adalah monumen peringatan setinggi 132 meter (433 kaki) yang didirikan untuk mengenang perlawanan dan perjuangan rakyat Indonesia untuk merebut kemerdekaan dari pemerintahan kolonial Hindia Belanda. Pembangunan monumen ini dimulai pada tanggal 17 Agustus 1961 di bawah perintah presiden Soekarno dan dibuka untuk umum pada tanggal 12 Juli 1975. Tugu ini dimahkotai lidah api yang dilapisi lembaran emas yang melambangkan semangat perjuangan yang menyala-nyala. Monumen Nasional terletak tepat di tengah Lapangan Medan Merdeka, Jakarta Pusat.",
         "Budaya",
         "Jakarta",
         "20000",
         "4.6",
         "15.0",
         "{'lat': -6.1753924, 'lng': 106.8271528}",
         "-6.1753924",
         "106.8271528",
         null,
         "1"
        ],
        [
         "1",
         "2",
         "Kota Tua",
         "Kota tua di Jakarta, yang juga bernama Kota Tua, berpusat di Alun-Alun Fatahillah, yaitu alun-alun yang ramai dengan pertunjukan rutin tarian tradisional. Museum Sejarah Jakarta adalah bangunan era Belanda dengan lukisan dan barang antik, sedangkan Museum Wayang memamerkan boneka kayu khas Jawa. Desa Glodok, atau Chinatown, terkenal dengan makanan kaki lima, seperti pangsit dan mi goreng. Di dekatnya, terdapat sekunar dan kapal penangkap ikan di pelabuhan Sunda Kelapa yang kuno",
         "Budaya",
         "Jakarta",
         "0",
         "4.6",
         "90.0",
         "{'lat': -6.137644799999999, 'lng': 106.8171245}",
         "-6.1376448",
         "106.8171245",
         null,
         "2"
        ],
        [
         "2",
         "3",
         "Dunia Fantasi",
         "Dunia Fantasi atau disebut juga Dufan adalah tempat hiburan yang terletak di kawasan Taman Impian Jaya Ancol, Jakarta Utara, Indonesia. Dufan diresmikan dan dibuka pada tanggal 29 Agustus 1985.",
         "Taman Hiburan",
         "Jakarta",
         "270000",
         "4.6",
         "360.0",
         "{'lat': -6.125312399999999, 'lng': 106.8335377}",
         "-6.1253124",
         "106.8335377",
         null,
         "3"
        ],
        [
         "3",
         "4",
         "Taman Mini Indonesia Indah (TMII)",
         "Taman Mini Indonesia Indah merupakan suatu kawasan taman wisata bertema budaya Indonesia di Jakarta Timur. Area seluas kurang lebih 150 hektare atau 1,5 kilometer persegi ini terletak pada koordinat 6°18′6.8″LS,106°53′47.2″BT",
         "Taman Hiburan",
         "Jakarta",
         "10000",
         "4.5",
         null,
         "{'lat': -6.302445899999999, 'lng': 106.8951559}",
         "-6.3024459",
         "106.8951559",
         null,
         "4"
        ],
        [
         "4",
         "5",
         "Atlantis Water Adventure",
         "Atlantis Water Adventure atau dikenal dengan Atlantis Ancol akan menyuguhkan petualangan wisata air tak terlupakan. Tempat Wisata bertemakan permainan air dengan luas 5 hektar ini memberi sensasi petualangan di 8 kolam utama. Yaitu kolam Antila, Plaza Atlas, Poseidon, Aquarius, Octopus, Kiddy Pool, dan Atlantean. Berlokasi di kawasan Ancol Jakarta Baycity, Atlantis bisa menjadi pilihan destinasi yang pas untuk wisata berenang.",
         "Taman Hiburan",
         "Jakarta",
         "94000",
         "4.5",
         "60.0",
         "{'lat': -6.12419, 'lng': 106.839134}",
         "-6.12419",
         "106.839134",
         null,
         "5"
        ]
       ],
       "shape": {
        "columns": 13,
        "rows": 5
       }
      },
      "text/html": [
       "<div>\n",
       "<style scoped>\n",
       "    .dataframe tbody tr th:only-of-type {\n",
       "        vertical-align: middle;\n",
       "    }\n",
       "\n",
       "    .dataframe tbody tr th {\n",
       "        vertical-align: top;\n",
       "    }\n",
       "\n",
       "    .dataframe thead th {\n",
       "        text-align: right;\n",
       "    }\n",
       "</style>\n",
       "<table border=\"1\" class=\"dataframe\">\n",
       "  <thead>\n",
       "    <tr style=\"text-align: right;\">\n",
       "      <th></th>\n",
       "      <th>Place_Id</th>\n",
       "      <th>Place_Name</th>\n",
       "      <th>Description</th>\n",
       "      <th>Category</th>\n",
       "      <th>City</th>\n",
       "      <th>Price</th>\n",
       "      <th>Rating</th>\n",
       "      <th>Time_Minutes</th>\n",
       "      <th>Coordinate</th>\n",
       "      <th>Lat</th>\n",
       "      <th>Long</th>\n",
       "      <th>Unnamed: 11</th>\n",
       "      <th>Unnamed: 12</th>\n",
       "    </tr>\n",
       "  </thead>\n",
       "  <tbody>\n",
       "    <tr>\n",
       "      <th>0</th>\n",
       "      <td>1</td>\n",
       "      <td>Monumen Nasional</td>\n",
       "      <td>Monumen Nasional atau yang populer disingkat d...</td>\n",
       "      <td>Budaya</td>\n",
       "      <td>Jakarta</td>\n",
       "      <td>20000</td>\n",
       "      <td>4.6</td>\n",
       "      <td>15.0</td>\n",
       "      <td>{'lat': -6.1753924, 'lng': 106.8271528}</td>\n",
       "      <td>-6.175392</td>\n",
       "      <td>106.827153</td>\n",
       "      <td>NaN</td>\n",
       "      <td>1</td>\n",
       "    </tr>\n",
       "    <tr>\n",
       "      <th>1</th>\n",
       "      <td>2</td>\n",
       "      <td>Kota Tua</td>\n",
       "      <td>Kota tua di Jakarta, yang juga bernama Kota Tu...</td>\n",
       "      <td>Budaya</td>\n",
       "      <td>Jakarta</td>\n",
       "      <td>0</td>\n",
       "      <td>4.6</td>\n",
       "      <td>90.0</td>\n",
       "      <td>{'lat': -6.137644799999999, 'lng': 106.8171245}</td>\n",
       "      <td>-6.137645</td>\n",
       "      <td>106.817125</td>\n",
       "      <td>NaN</td>\n",
       "      <td>2</td>\n",
       "    </tr>\n",
       "    <tr>\n",
       "      <th>2</th>\n",
       "      <td>3</td>\n",
       "      <td>Dunia Fantasi</td>\n",
       "      <td>Dunia Fantasi atau disebut juga Dufan adalah t...</td>\n",
       "      <td>Taman Hiburan</td>\n",
       "      <td>Jakarta</td>\n",
       "      <td>270000</td>\n",
       "      <td>4.6</td>\n",
       "      <td>360.0</td>\n",
       "      <td>{'lat': -6.125312399999999, 'lng': 106.8335377}</td>\n",
       "      <td>-6.125312</td>\n",
       "      <td>106.833538</td>\n",
       "      <td>NaN</td>\n",
       "      <td>3</td>\n",
       "    </tr>\n",
       "    <tr>\n",
       "      <th>3</th>\n",
       "      <td>4</td>\n",
       "      <td>Taman Mini Indonesia Indah (TMII)</td>\n",
       "      <td>Taman Mini Indonesia Indah merupakan suatu kaw...</td>\n",
       "      <td>Taman Hiburan</td>\n",
       "      <td>Jakarta</td>\n",
       "      <td>10000</td>\n",
       "      <td>4.5</td>\n",
       "      <td>NaN</td>\n",
       "      <td>{'lat': -6.302445899999999, 'lng': 106.8951559}</td>\n",
       "      <td>-6.302446</td>\n",
       "      <td>106.895156</td>\n",
       "      <td>NaN</td>\n",
       "      <td>4</td>\n",
       "    </tr>\n",
       "    <tr>\n",
       "      <th>4</th>\n",
       "      <td>5</td>\n",
       "      <td>Atlantis Water Adventure</td>\n",
       "      <td>Atlantis Water Adventure atau dikenal dengan A...</td>\n",
       "      <td>Taman Hiburan</td>\n",
       "      <td>Jakarta</td>\n",
       "      <td>94000</td>\n",
       "      <td>4.5</td>\n",
       "      <td>60.0</td>\n",
       "      <td>{'lat': -6.12419, 'lng': 106.839134}</td>\n",
       "      <td>-6.124190</td>\n",
       "      <td>106.839134</td>\n",
       "      <td>NaN</td>\n",
       "      <td>5</td>\n",
       "    </tr>\n",
       "  </tbody>\n",
       "</table>\n",
       "</div>"
      ],
      "text/plain": [
       "   Place_Id                         Place_Name  \\\n",
       "0         1                   Monumen Nasional   \n",
       "1         2                           Kota Tua   \n",
       "2         3                      Dunia Fantasi   \n",
       "3         4  Taman Mini Indonesia Indah (TMII)   \n",
       "4         5           Atlantis Water Adventure   \n",
       "\n",
       "                                         Description       Category     City  \\\n",
       "0  Monumen Nasional atau yang populer disingkat d...         Budaya  Jakarta   \n",
       "1  Kota tua di Jakarta, yang juga bernama Kota Tu...         Budaya  Jakarta   \n",
       "2  Dunia Fantasi atau disebut juga Dufan adalah t...  Taman Hiburan  Jakarta   \n",
       "3  Taman Mini Indonesia Indah merupakan suatu kaw...  Taman Hiburan  Jakarta   \n",
       "4  Atlantis Water Adventure atau dikenal dengan A...  Taman Hiburan  Jakarta   \n",
       "\n",
       "    Price  Rating  Time_Minutes  \\\n",
       "0   20000     4.6          15.0   \n",
       "1       0     4.6          90.0   \n",
       "2  270000     4.6         360.0   \n",
       "3   10000     4.5           NaN   \n",
       "4   94000     4.5          60.0   \n",
       "\n",
       "                                        Coordinate       Lat        Long  \\\n",
       "0          {'lat': -6.1753924, 'lng': 106.8271528} -6.175392  106.827153   \n",
       "1  {'lat': -6.137644799999999, 'lng': 106.8171245} -6.137645  106.817125   \n",
       "2  {'lat': -6.125312399999999, 'lng': 106.8335377} -6.125312  106.833538   \n",
       "3  {'lat': -6.302445899999999, 'lng': 106.8951559} -6.302446  106.895156   \n",
       "4             {'lat': -6.12419, 'lng': 106.839134} -6.124190  106.839134   \n",
       "\n",
       "   Unnamed: 11  Unnamed: 12  \n",
       "0          NaN            1  \n",
       "1          NaN            2  \n",
       "2          NaN            3  \n",
       "3          NaN            4  \n",
       "4          NaN            5  "
      ]
     },
     "execution_count": 19,
     "metadata": {},
     "output_type": "execute_result"
    }
   ],
   "source": [
    "df[\"tourism_with_id\"].head()"
   ]
  },
  {
   "cell_type": "code",
   "execution_count": 20,
   "id": "af1a05b5",
   "metadata": {},
   "outputs": [
    {
     "data": {
      "text/plain": [
       "Index(['Place_Id', 'Place_Name', 'Description', 'Category', 'City', 'Price',\n",
       "       'Rating', 'Time_Minutes', 'Coordinate', 'Lat', 'Long', 'Unnamed: 11',\n",
       "       'Unnamed: 12'],\n",
       "      dtype='object')"
      ]
     },
     "execution_count": 20,
     "metadata": {},
     "output_type": "execute_result"
    }
   ],
   "source": [
    "df[\"tourism_with_id\"].columns"
   ]
  },
  {
   "cell_type": "code",
   "execution_count": 21,
   "id": "713a77ac",
   "metadata": {},
   "outputs": [
    {
     "data": {
      "application/vnd.microsoft.datawrangler.viewer.v0+json": {
       "columns": [
        {
         "name": "City",
         "rawType": "object",
         "type": "string"
        },
        {
         "name": "count",
         "rawType": "int64",
         "type": "integer"
        }
       ],
       "ref": "8fd1d406-5085-49cd-8f6e-fa96d03e8ddb",
       "rows": [
        [
         "Yogyakarta",
         "126"
        ],
        [
         "Bandung",
         "124"
        ],
        [
         "Jakarta",
         "84"
        ],
        [
         "Semarang",
         "57"
        ],
        [
         "Surabaya",
         "46"
        ]
       ],
       "shape": {
        "columns": 1,
        "rows": 5
       }
      },
      "text/plain": [
       "City\n",
       "Yogyakarta    126\n",
       "Bandung       124\n",
       "Jakarta        84\n",
       "Semarang       57\n",
       "Surabaya       46\n",
       "Name: count, dtype: int64"
      ]
     },
     "execution_count": 21,
     "metadata": {},
     "output_type": "execute_result"
    }
   ],
   "source": [
    "df[\"tourism_with_id\"][\"City\"].value_counts()"
   ]
  },
  {
   "cell_type": "code",
   "execution_count": 22,
   "id": "3981e35f",
   "metadata": {},
   "outputs": [],
   "source": [
    "df['tourism_with_id'].at[210, 'Place_Name'] = 'Gunung Tangkuban Perahu'\n",
    "\n"
   ]
  },
  {
   "cell_type": "code",
   "execution_count": 23,
   "id": "189ef7dd",
   "metadata": {},
   "outputs": [],
   "source": [
    "city_province_mapping = {\n",
    "    \"Jakarta\": \"Jakarta\",\n",
    "    \"Bandung\": \"Jawa Barat\",\n",
    "    \"Yogyakarta\": \"Yogyakarta\",\n",
    "    \"Surabaya\": \"Jawa Timur\",\n",
    "    \"Semarang\": \"Jawa Tengah\",\n",
    "}"
   ]
  },
  {
   "cell_type": "code",
   "execution_count": 24,
   "id": "2543a2b6",
   "metadata": {},
   "outputs": [],
   "source": [
    "df[\"tourism_with_id\"][\"Province\"] = df[\"tourism_with_id\"][\"City\"].apply(\n",
    "    lambda city: city_province_mapping.get(city, \"Unknown\")\n",
    ")"
   ]
  },
  {
   "cell_type": "code",
   "execution_count": 25,
   "id": "030699e9",
   "metadata": {},
   "outputs": [
    {
     "data": {
      "text/plain": [
       "(437, 437)"
      ]
     },
     "execution_count": 25,
     "metadata": {},
     "output_type": "execute_result"
    }
   ],
   "source": [
    "len(df[\"tourism_with_id\"].drop_duplicates()), len(df[\"tourism_with_id\"])"
   ]
  },
  {
   "cell_type": "code",
   "execution_count": 27,
   "id": "3f75f988",
   "metadata": {},
   "outputs": [],
   "source": [
    "place_insert_sql = \"\"\"\n",
    "insert into public.place (\n",
    "  place_id,\n",
    "  place_name,\n",
    "  description,\n",
    "  category,\n",
    "  province,\n",
    "  price,\n",
    "  rating,\n",
    "  time_minutes,\n",
    "  latitude,\n",
    "  longitude\n",
    ") values\n",
    "\"\"\"\n",
    "\n",
    "\n",
    "def escape_sql(value):\n",
    "    if isinstance(value, str):\n",
    "        return value.replace(\"'\", \"''\")\n",
    "    return value\n",
    "\n",
    "\n",
    "rows = []\n",
    "for _, row in df[\"tourism_with_id\"].iterrows():\n",
    "    rows.append(\n",
    "        f\"({row['Place_Id']}, \"\n",
    "        f\"'{escape_sql(row['Place_Name'])}', \"\n",
    "        f\"'{escape_sql(row['Description'])}', \"\n",
    "        f\"'{escape_sql(row['Category'])}', \"\n",
    "        f\"'{escape_sql(row['City'])}', \"\n",
    "        f\"{row['Price'] if pd.notnull(row['Price']) else 'NULL'}, \"\n",
    "        f\"{row['Rating'] if pd.notnull(row['Rating']) else 'NULL'}, \"\n",
    "        f\"{row['Time_Minutes'] if pd.notnull(row['Time_Minutes']) else 'NULL'}, \"\n",
    "        f\"{row['Lat']}, \"\n",
    "        f\"{row['Long']}\"\n",
    "        \")\"\n",
    "    )\n",
    "values_str = \",\\n\".join(rows)\n",
    "\n",
    "with open(\"supabase/seeder/place.sql\", \"w\") as f:\n",
    "    f.write(place_insert_sql + values_str + \";\")"
   ]
  },
  {
   "cell_type": "markdown",
   "id": "03062c38",
   "metadata": {},
   "source": [
    "## User Place Interaction"
   ]
  },
  {
   "cell_type": "code",
   "execution_count": 28,
   "id": "6fa02c62",
   "metadata": {},
   "outputs": [
    {
     "data": {
      "application/vnd.microsoft.datawrangler.viewer.v0+json": {
       "columns": [
        {
         "name": "index",
         "rawType": "int64",
         "type": "integer"
        },
        {
         "name": "User_Id",
         "rawType": "int64",
         "type": "integer"
        },
        {
         "name": "Place_Id",
         "rawType": "int64",
         "type": "integer"
        },
        {
         "name": "Place_Ratings",
         "rawType": "int64",
         "type": "integer"
        }
       ],
       "ref": "a33848f5-e2ed-48c5-9bb4-d394204093eb",
       "rows": [
        [
         "0",
         "1",
         "179",
         "3"
        ],
        [
         "1",
         "1",
         "344",
         "2"
        ],
        [
         "2",
         "1",
         "5",
         "5"
        ],
        [
         "3",
         "1",
         "373",
         "3"
        ],
        [
         "4",
         "1",
         "101",
         "4"
        ]
       ],
       "shape": {
        "columns": 3,
        "rows": 5
       }
      },
      "text/html": [
       "<div>\n",
       "<style scoped>\n",
       "    .dataframe tbody tr th:only-of-type {\n",
       "        vertical-align: middle;\n",
       "    }\n",
       "\n",
       "    .dataframe tbody tr th {\n",
       "        vertical-align: top;\n",
       "    }\n",
       "\n",
       "    .dataframe thead th {\n",
       "        text-align: right;\n",
       "    }\n",
       "</style>\n",
       "<table border=\"1\" class=\"dataframe\">\n",
       "  <thead>\n",
       "    <tr style=\"text-align: right;\">\n",
       "      <th></th>\n",
       "      <th>User_Id</th>\n",
       "      <th>Place_Id</th>\n",
       "      <th>Place_Ratings</th>\n",
       "    </tr>\n",
       "  </thead>\n",
       "  <tbody>\n",
       "    <tr>\n",
       "      <th>0</th>\n",
       "      <td>1</td>\n",
       "      <td>179</td>\n",
       "      <td>3</td>\n",
       "    </tr>\n",
       "    <tr>\n",
       "      <th>1</th>\n",
       "      <td>1</td>\n",
       "      <td>344</td>\n",
       "      <td>2</td>\n",
       "    </tr>\n",
       "    <tr>\n",
       "      <th>2</th>\n",
       "      <td>1</td>\n",
       "      <td>5</td>\n",
       "      <td>5</td>\n",
       "    </tr>\n",
       "    <tr>\n",
       "      <th>3</th>\n",
       "      <td>1</td>\n",
       "      <td>373</td>\n",
       "      <td>3</td>\n",
       "    </tr>\n",
       "    <tr>\n",
       "      <th>4</th>\n",
       "      <td>1</td>\n",
       "      <td>101</td>\n",
       "      <td>4</td>\n",
       "    </tr>\n",
       "  </tbody>\n",
       "</table>\n",
       "</div>"
      ],
      "text/plain": [
       "   User_Id  Place_Id  Place_Ratings\n",
       "0        1       179              3\n",
       "1        1       344              2\n",
       "2        1         5              5\n",
       "3        1       373              3\n",
       "4        1       101              4"
      ]
     },
     "execution_count": 28,
     "metadata": {},
     "output_type": "execute_result"
    }
   ],
   "source": [
    "df[\"tourism_rating\"].head()"
   ]
  },
  {
   "cell_type": "code",
   "execution_count": 37,
   "id": "9b53ee74",
   "metadata": {},
   "outputs": [
    {
     "data": {
      "text/plain": [
       "(9921, 9921)"
      ]
     },
     "execution_count": 37,
     "metadata": {},
     "output_type": "execute_result"
    }
   ],
   "source": [
    "len(df[\"tourism_rating\"].drop_duplicates()), len(df[\"tourism_rating\"])"
   ]
  },
  {
   "cell_type": "code",
   "execution_count": 30,
   "id": "55eca6e5",
   "metadata": {},
   "outputs": [],
   "source": [
    "df[\"tourism_rating\"].drop_duplicates(inplace=True)"
   ]
  },
  {
   "cell_type": "code",
   "execution_count": 36,
   "id": "1e168e45",
   "metadata": {},
   "outputs": [
    {
     "data": {
      "application/vnd.microsoft.datawrangler.viewer.v0+json": {
       "columns": [
        {
         "name": "index",
         "rawType": "int64",
         "type": "integer"
        },
        {
         "name": "User_Id",
         "rawType": "int64",
         "type": "integer"
        },
        {
         "name": "Place_Id",
         "rawType": "int64",
         "type": "integer"
        },
        {
         "name": "Place_Ratings",
         "rawType": "int64",
         "type": "integer"
        }
       ],
       "ref": "a7547c96-da55-45ab-aecd-723e428f5906",
       "rows": [],
       "shape": {
        "columns": 3,
        "rows": 0
       }
      },
      "text/html": [
       "<div>\n",
       "<style scoped>\n",
       "    .dataframe tbody tr th:only-of-type {\n",
       "        vertical-align: middle;\n",
       "    }\n",
       "\n",
       "    .dataframe tbody tr th {\n",
       "        vertical-align: top;\n",
       "    }\n",
       "\n",
       "    .dataframe thead th {\n",
       "        text-align: right;\n",
       "    }\n",
       "</style>\n",
       "<table border=\"1\" class=\"dataframe\">\n",
       "  <thead>\n",
       "    <tr style=\"text-align: right;\">\n",
       "      <th></th>\n",
       "      <th>User_Id</th>\n",
       "      <th>Place_Id</th>\n",
       "      <th>Place_Ratings</th>\n",
       "    </tr>\n",
       "  </thead>\n",
       "  <tbody>\n",
       "  </tbody>\n",
       "</table>\n",
       "</div>"
      ],
      "text/plain": [
       "Empty DataFrame\n",
       "Columns: [User_Id, Place_Id, Place_Ratings]\n",
       "Index: []"
      ]
     },
     "execution_count": 36,
     "metadata": {},
     "output_type": "execute_result"
    }
   ],
   "source": [
    "df['tourism_rating'][df[\"tourism_rating\"].duplicated()]"
   ]
  },
  {
   "cell_type": "code",
   "execution_count": 38,
   "id": "b1fe61fe",
   "metadata": {},
   "outputs": [],
   "source": [
    "user_place_rating_insert_sql = \"\"\"\n",
    "insert into public.user_place_rating (\n",
    "    user_id,\n",
    "    place_id,\n",
    "    rating\n",
    ") values\n",
    "\"\"\"\n",
    "rows = []\n",
    "for _, row in df[\"tourism_rating\"].iterrows():\n",
    "    rows.append(\n",
    "        f\"({row['User_Id']}, \"\n",
    "        f\"{escape_sql(row['Place_Id'])},\"\n",
    "        f\"{escape_sql(row['Place_Ratings'])}\"\n",
    "        \")\"\n",
    "    )\n",
    "values_str = \",\\n\".join(rows)\n",
    "\n",
    "with open(\"supabase/seeder/user_place_rating.sql\", \"w\") as f:\n",
    "    f.write(user_place_rating_insert_sql + values_str + \";\")"
   ]
  },
  {
   "cell_type": "markdown",
   "id": "e87a1cd3",
   "metadata": {},
   "source": [
    "## Place Package"
   ]
  },
  {
   "cell_type": "code",
   "execution_count": 30,
   "id": "30f6c993",
   "metadata": {},
   "outputs": [
    {
     "data": {
      "application/vnd.microsoft.datawrangler.viewer.v0+json": {
       "columns": [
        {
         "name": "index",
         "rawType": "int64",
         "type": "integer"
        },
        {
         "name": "Package",
         "rawType": "int64",
         "type": "integer"
        },
        {
         "name": "City",
         "rawType": "object",
         "type": "string"
        },
        {
         "name": "Place_Tourism1",
         "rawType": "object",
         "type": "string"
        },
        {
         "name": "Place_Tourism2",
         "rawType": "object",
         "type": "string"
        },
        {
         "name": "Place_Tourism3",
         "rawType": "object",
         "type": "string"
        },
        {
         "name": "Place_Tourism4",
         "rawType": "object",
         "type": "unknown"
        },
        {
         "name": "Place_Tourism5",
         "rawType": "object",
         "type": "unknown"
        }
       ],
       "ref": "31036c8a-d06a-4923-8fb4-a38580777d26",
       "rows": [
        [
         "0",
         "1",
         "Jakarta",
         "Pasar Tanah Abang",
         "Taman Ayodya",
         "Museum Tekstil",
         null,
         null
        ],
        [
         "1",
         "2",
         "Jakarta",
         "Pasar Tanah Abang",
         "Pasar Taman Puring",
         "Pasar Petak Sembilan",
         null,
         null
        ],
        [
         "2",
         "3",
         "Jakarta",
         "Perpustakaan Nasional",
         "Monas",
         "Masjid Istiqlal",
         null,
         null
        ],
        [
         "3",
         "4",
         "Jakarta",
         "Pulau Tidung",
         "Pulau Bidadari",
         "Pulau Pari",
         "Pulau Pramuka",
         "Pulau Pelangi"
        ],
        [
         "4",
         "5",
         "Jakarta",
         "Museum Satria Mandala",
         "Museum Wayang",
         "Museum Bahari Jakarta",
         "Museum Macan (Modern and Contemporary Art in Nusantara)",
         null
        ]
       ],
       "shape": {
        "columns": 7,
        "rows": 5
       }
      },
      "text/html": [
       "<div>\n",
       "<style scoped>\n",
       "    .dataframe tbody tr th:only-of-type {\n",
       "        vertical-align: middle;\n",
       "    }\n",
       "\n",
       "    .dataframe tbody tr th {\n",
       "        vertical-align: top;\n",
       "    }\n",
       "\n",
       "    .dataframe thead th {\n",
       "        text-align: right;\n",
       "    }\n",
       "</style>\n",
       "<table border=\"1\" class=\"dataframe\">\n",
       "  <thead>\n",
       "    <tr style=\"text-align: right;\">\n",
       "      <th></th>\n",
       "      <th>Package</th>\n",
       "      <th>City</th>\n",
       "      <th>Place_Tourism1</th>\n",
       "      <th>Place_Tourism2</th>\n",
       "      <th>Place_Tourism3</th>\n",
       "      <th>Place_Tourism4</th>\n",
       "      <th>Place_Tourism5</th>\n",
       "    </tr>\n",
       "  </thead>\n",
       "  <tbody>\n",
       "    <tr>\n",
       "      <th>0</th>\n",
       "      <td>1</td>\n",
       "      <td>Jakarta</td>\n",
       "      <td>Pasar Tanah Abang</td>\n",
       "      <td>Taman Ayodya</td>\n",
       "      <td>Museum Tekstil</td>\n",
       "      <td>NaN</td>\n",
       "      <td>NaN</td>\n",
       "    </tr>\n",
       "    <tr>\n",
       "      <th>1</th>\n",
       "      <td>2</td>\n",
       "      <td>Jakarta</td>\n",
       "      <td>Pasar Tanah Abang</td>\n",
       "      <td>Pasar Taman Puring</td>\n",
       "      <td>Pasar Petak Sembilan</td>\n",
       "      <td>NaN</td>\n",
       "      <td>NaN</td>\n",
       "    </tr>\n",
       "    <tr>\n",
       "      <th>2</th>\n",
       "      <td>3</td>\n",
       "      <td>Jakarta</td>\n",
       "      <td>Perpustakaan Nasional</td>\n",
       "      <td>Monas</td>\n",
       "      <td>Masjid Istiqlal</td>\n",
       "      <td>NaN</td>\n",
       "      <td>NaN</td>\n",
       "    </tr>\n",
       "    <tr>\n",
       "      <th>3</th>\n",
       "      <td>4</td>\n",
       "      <td>Jakarta</td>\n",
       "      <td>Pulau Tidung</td>\n",
       "      <td>Pulau Bidadari</td>\n",
       "      <td>Pulau Pari</td>\n",
       "      <td>Pulau Pramuka</td>\n",
       "      <td>Pulau Pelangi</td>\n",
       "    </tr>\n",
       "    <tr>\n",
       "      <th>4</th>\n",
       "      <td>5</td>\n",
       "      <td>Jakarta</td>\n",
       "      <td>Museum Satria Mandala</td>\n",
       "      <td>Museum Wayang</td>\n",
       "      <td>Museum Bahari Jakarta</td>\n",
       "      <td>Museum Macan (Modern and Contemporary Art in N...</td>\n",
       "      <td>NaN</td>\n",
       "    </tr>\n",
       "  </tbody>\n",
       "</table>\n",
       "</div>"
      ],
      "text/plain": [
       "   Package     City         Place_Tourism1      Place_Tourism2  \\\n",
       "0        1  Jakarta      Pasar Tanah Abang        Taman Ayodya   \n",
       "1        2  Jakarta      Pasar Tanah Abang  Pasar Taman Puring   \n",
       "2        3  Jakarta  Perpustakaan Nasional               Monas   \n",
       "3        4  Jakarta           Pulau Tidung      Pulau Bidadari   \n",
       "4        5  Jakarta  Museum Satria Mandala       Museum Wayang   \n",
       "\n",
       "          Place_Tourism3                                     Place_Tourism4  \\\n",
       "0         Museum Tekstil                                                NaN   \n",
       "1   Pasar Petak Sembilan                                                NaN   \n",
       "2        Masjid Istiqlal                                                NaN   \n",
       "3             Pulau Pari                                      Pulau Pramuka   \n",
       "4  Museum Bahari Jakarta  Museum Macan (Modern and Contemporary Art in N...   \n",
       "\n",
       "  Place_Tourism5  \n",
       "0            NaN  \n",
       "1            NaN  \n",
       "2            NaN  \n",
       "3  Pulau Pelangi  \n",
       "4            NaN  "
      ]
     },
     "execution_count": 30,
     "metadata": {},
     "output_type": "execute_result"
    }
   ],
   "source": [
    "df['package_tourism'].head()"
   ]
  },
  {
   "cell_type": "code",
   "execution_count": 31,
   "id": "225fc8d1",
   "metadata": {},
   "outputs": [
    {
     "data": {
      "text/plain": [
       "100"
      ]
     },
     "execution_count": 31,
     "metadata": {},
     "output_type": "execute_result"
    }
   ],
   "source": [
    "len(df['package_tourism'])"
   ]
  },
  {
   "cell_type": "code",
   "execution_count": 32,
   "id": "4908f6ee",
   "metadata": {},
   "outputs": [],
   "source": [
    "flat_df = pd.melt(\n",
    "    df['package_tourism'],\n",
    "    id_vars=['Package', 'City'],\n",
    "    value_vars=[\n",
    "        'Place_Tourism1', 'Place_Tourism2', 'Place_Tourism3',\n",
    "        'Place_Tourism4', 'Place_Tourism5'\n",
    "    ],\n",
    "    var_name='place_tourism',\n",
    "    value_name='place_name'\n",
    ").dropna(subset=['place_name'])\n",
    "\n",
    "flat_df = flat_df.rename(columns={'Package': 'package', 'City': 'city'})\n",
    "\n",
    "flat_df = flat_df[['package', 'city', 'place_name']]"
   ]
  },
  {
   "cell_type": "code",
   "execution_count": 33,
   "id": "356f92a7",
   "metadata": {},
   "outputs": [],
   "source": [
    "def name_to_id(name:str, df_place:pd.DataFrame = df['tourism_with_id']):\n",
    "    \"\"\"Convert place name to its corresponding ID.\"\"\"\n",
    "    place_id = df_place.query(f\"Place_Name == '{name}'\")['Place_Id'].values\n",
    "    return place_id[0] if len(place_id) > 0 else None\n"
   ]
  },
  {
   "cell_type": "code",
   "execution_count": 34,
   "id": "aaa5afb4",
   "metadata": {},
   "outputs": [],
   "source": [
    "\n",
    "flat_df['place_id'] = flat_df['place_name'].apply(name_to_id)"
   ]
  },
  {
   "cell_type": "code",
   "execution_count": 35,
   "id": "ab700165",
   "metadata": {},
   "outputs": [
    {
     "data": {
      "application/vnd.microsoft.datawrangler.viewer.v0+json": {
       "columns": [
        {
         "name": "index",
         "rawType": "int64",
         "type": "integer"
        },
        {
         "name": "package",
         "rawType": "int64",
         "type": "integer"
        },
        {
         "name": "city",
         "rawType": "object",
         "type": "string"
        },
        {
         "name": "place_name",
         "rawType": "object",
         "type": "string"
        },
        {
         "name": "place_id",
         "rawType": "float64",
         "type": "float"
        }
       ],
       "ref": "0839b6ad-8eb3-4167-b5dd-9427bd794960",
       "rows": [
        [
         "0",
         "1",
         "Jakarta",
         "Pasar Tanah Abang",
         "25.0"
        ],
        [
         "1",
         "2",
         "Jakarta",
         "Pasar Tanah Abang",
         "25.0"
        ],
        [
         "2",
         "3",
         "Jakarta",
         "Perpustakaan Nasional",
         "70.0"
        ],
        [
         "3",
         "4",
         "Jakarta",
         "Pulau Tidung",
         "10.0"
        ],
        [
         "4",
         "5",
         "Jakarta",
         "Museum Satria Mandala",
         "82.0"
        ]
       ],
       "shape": {
        "columns": 4,
        "rows": 5
       }
      },
      "text/html": [
       "<div>\n",
       "<style scoped>\n",
       "    .dataframe tbody tr th:only-of-type {\n",
       "        vertical-align: middle;\n",
       "    }\n",
       "\n",
       "    .dataframe tbody tr th {\n",
       "        vertical-align: top;\n",
       "    }\n",
       "\n",
       "    .dataframe thead th {\n",
       "        text-align: right;\n",
       "    }\n",
       "</style>\n",
       "<table border=\"1\" class=\"dataframe\">\n",
       "  <thead>\n",
       "    <tr style=\"text-align: right;\">\n",
       "      <th></th>\n",
       "      <th>package</th>\n",
       "      <th>city</th>\n",
       "      <th>place_name</th>\n",
       "      <th>place_id</th>\n",
       "    </tr>\n",
       "  </thead>\n",
       "  <tbody>\n",
       "    <tr>\n",
       "      <th>0</th>\n",
       "      <td>1</td>\n",
       "      <td>Jakarta</td>\n",
       "      <td>Pasar Tanah Abang</td>\n",
       "      <td>25.0</td>\n",
       "    </tr>\n",
       "    <tr>\n",
       "      <th>1</th>\n",
       "      <td>2</td>\n",
       "      <td>Jakarta</td>\n",
       "      <td>Pasar Tanah Abang</td>\n",
       "      <td>25.0</td>\n",
       "    </tr>\n",
       "    <tr>\n",
       "      <th>2</th>\n",
       "      <td>3</td>\n",
       "      <td>Jakarta</td>\n",
       "      <td>Perpustakaan Nasional</td>\n",
       "      <td>70.0</td>\n",
       "    </tr>\n",
       "    <tr>\n",
       "      <th>3</th>\n",
       "      <td>4</td>\n",
       "      <td>Jakarta</td>\n",
       "      <td>Pulau Tidung</td>\n",
       "      <td>10.0</td>\n",
       "    </tr>\n",
       "    <tr>\n",
       "      <th>4</th>\n",
       "      <td>5</td>\n",
       "      <td>Jakarta</td>\n",
       "      <td>Museum Satria Mandala</td>\n",
       "      <td>82.0</td>\n",
       "    </tr>\n",
       "  </tbody>\n",
       "</table>\n",
       "</div>"
      ],
      "text/plain": [
       "   package     city             place_name  place_id\n",
       "0        1  Jakarta      Pasar Tanah Abang      25.0\n",
       "1        2  Jakarta      Pasar Tanah Abang      25.0\n",
       "2        3  Jakarta  Perpustakaan Nasional      70.0\n",
       "3        4  Jakarta           Pulau Tidung      10.0\n",
       "4        5  Jakarta  Museum Satria Mandala      82.0"
      ]
     },
     "execution_count": 35,
     "metadata": {},
     "output_type": "execute_result"
    }
   ],
   "source": [
    "flat_df.head()"
   ]
  },
  {
   "cell_type": "code",
   "execution_count": 36,
   "id": "b686fc99",
   "metadata": {},
   "outputs": [
    {
     "data": {
      "application/vnd.microsoft.datawrangler.viewer.v0+json": {
       "columns": [
        {
         "name": "index",
         "rawType": "int64",
         "type": "integer"
        },
        {
         "name": "package",
         "rawType": "int64",
         "type": "integer"
        },
        {
         "name": "city",
         "rawType": "object",
         "type": "string"
        },
        {
         "name": "place_name",
         "rawType": "object",
         "type": "string"
        },
        {
         "name": "place_id",
         "rawType": "float64",
         "type": "float"
        }
       ],
       "ref": "18967c91-42a1-4d77-9950-72b4519927f7",
       "rows": [
        [
         "102",
         "3",
         "Jakarta",
         "Monas",
         null
        ],
        [
         "130",
         "31",
         "Yogyakarta",
         "Taman Pelangi Jogja",
         null
        ],
        [
         "207",
         "8",
         "Jakarta",
         "Monas",
         null
        ],
        [
         "248",
         "49",
         "Bandung",
         " Panama Park 825",
         null
        ],
        [
         "262",
         "63",
         "Semarang",
         " Pantai Cipta",
         null
        ],
        [
         "267",
         "68",
         "Semarang",
         "Semarang Gallery",
         null
        ],
        [
         "286",
         "87",
         "Surabaya",
         "| Food Junction Grand Pakuwon",
         null
        ],
        [
         "431",
         "32",
         "Yogyakarta",
         "Wisata Kalibiru",
         null
        ],
        [
         "449",
         "50",
         "Bandung",
         "| Peta Park",
         null
        ],
        [
         "451",
         "52",
         "Bandung",
         "Stone Garden Geopark",
         null
        ],
        [
         "452",
         "53",
         "Bandung",
         "Ade Irma Suryani Nasution Traffic Park",
         null
        ],
        [
         "496",
         "97",
         "Surabaya",
         "| Atlantis Land Surabaya",
         null
        ]
       ],
       "shape": {
        "columns": 4,
        "rows": 12
       }
      },
      "text/html": [
       "<div>\n",
       "<style scoped>\n",
       "    .dataframe tbody tr th:only-of-type {\n",
       "        vertical-align: middle;\n",
       "    }\n",
       "\n",
       "    .dataframe tbody tr th {\n",
       "        vertical-align: top;\n",
       "    }\n",
       "\n",
       "    .dataframe thead th {\n",
       "        text-align: right;\n",
       "    }\n",
       "</style>\n",
       "<table border=\"1\" class=\"dataframe\">\n",
       "  <thead>\n",
       "    <tr style=\"text-align: right;\">\n",
       "      <th></th>\n",
       "      <th>package</th>\n",
       "      <th>city</th>\n",
       "      <th>place_name</th>\n",
       "      <th>place_id</th>\n",
       "    </tr>\n",
       "  </thead>\n",
       "  <tbody>\n",
       "    <tr>\n",
       "      <th>102</th>\n",
       "      <td>3</td>\n",
       "      <td>Jakarta</td>\n",
       "      <td>Monas</td>\n",
       "      <td>NaN</td>\n",
       "    </tr>\n",
       "    <tr>\n",
       "      <th>130</th>\n",
       "      <td>31</td>\n",
       "      <td>Yogyakarta</td>\n",
       "      <td>Taman Pelangi Jogja</td>\n",
       "      <td>NaN</td>\n",
       "    </tr>\n",
       "    <tr>\n",
       "      <th>207</th>\n",
       "      <td>8</td>\n",
       "      <td>Jakarta</td>\n",
       "      <td>Monas</td>\n",
       "      <td>NaN</td>\n",
       "    </tr>\n",
       "    <tr>\n",
       "      <th>248</th>\n",
       "      <td>49</td>\n",
       "      <td>Bandung</td>\n",
       "      <td>Panama Park 825</td>\n",
       "      <td>NaN</td>\n",
       "    </tr>\n",
       "    <tr>\n",
       "      <th>262</th>\n",
       "      <td>63</td>\n",
       "      <td>Semarang</td>\n",
       "      <td>Pantai Cipta</td>\n",
       "      <td>NaN</td>\n",
       "    </tr>\n",
       "    <tr>\n",
       "      <th>267</th>\n",
       "      <td>68</td>\n",
       "      <td>Semarang</td>\n",
       "      <td>Semarang Gallery</td>\n",
       "      <td>NaN</td>\n",
       "    </tr>\n",
       "    <tr>\n",
       "      <th>286</th>\n",
       "      <td>87</td>\n",
       "      <td>Surabaya</td>\n",
       "      <td>| Food Junction Grand Pakuwon</td>\n",
       "      <td>NaN</td>\n",
       "    </tr>\n",
       "    <tr>\n",
       "      <th>431</th>\n",
       "      <td>32</td>\n",
       "      <td>Yogyakarta</td>\n",
       "      <td>Wisata Kalibiru</td>\n",
       "      <td>NaN</td>\n",
       "    </tr>\n",
       "    <tr>\n",
       "      <th>449</th>\n",
       "      <td>50</td>\n",
       "      <td>Bandung</td>\n",
       "      <td>| Peta Park</td>\n",
       "      <td>NaN</td>\n",
       "    </tr>\n",
       "    <tr>\n",
       "      <th>451</th>\n",
       "      <td>52</td>\n",
       "      <td>Bandung</td>\n",
       "      <td>Stone Garden Geopark</td>\n",
       "      <td>NaN</td>\n",
       "    </tr>\n",
       "    <tr>\n",
       "      <th>452</th>\n",
       "      <td>53</td>\n",
       "      <td>Bandung</td>\n",
       "      <td>Ade Irma Suryani Nasution Traffic Park</td>\n",
       "      <td>NaN</td>\n",
       "    </tr>\n",
       "    <tr>\n",
       "      <th>496</th>\n",
       "      <td>97</td>\n",
       "      <td>Surabaya</td>\n",
       "      <td>| Atlantis Land Surabaya</td>\n",
       "      <td>NaN</td>\n",
       "    </tr>\n",
       "  </tbody>\n",
       "</table>\n",
       "</div>"
      ],
      "text/plain": [
       "     package        city                              place_name  place_id\n",
       "102        3     Jakarta                                   Monas       NaN\n",
       "130       31  Yogyakarta                     Taman Pelangi Jogja       NaN\n",
       "207        8     Jakarta                                   Monas       NaN\n",
       "248       49     Bandung                         Panama Park 825       NaN\n",
       "262       63    Semarang                            Pantai Cipta       NaN\n",
       "267       68    Semarang                        Semarang Gallery       NaN\n",
       "286       87    Surabaya           | Food Junction Grand Pakuwon       NaN\n",
       "431       32  Yogyakarta                         Wisata Kalibiru       NaN\n",
       "449       50     Bandung                             | Peta Park       NaN\n",
       "451       52     Bandung                    Stone Garden Geopark       NaN\n",
       "452       53     Bandung  Ade Irma Suryani Nasution Traffic Park       NaN\n",
       "496       97    Surabaya                | Atlantis Land Surabaya       NaN"
      ]
     },
     "execution_count": 36,
     "metadata": {},
     "output_type": "execute_result"
    }
   ],
   "source": [
    "flat_df[flat_df['place_id'].isna()]"
   ]
  },
  {
   "cell_type": "code",
   "execution_count": 37,
   "id": "c00f8f85",
   "metadata": {},
   "outputs": [],
   "source": [
    "flat_df[\"place_name\"] = flat_df[\"place_name\"].map(lambda x: x.replace(\"|\", \"\").strip())"
   ]
  },
  {
   "cell_type": "code",
   "execution_count": 38,
   "id": "44e58409",
   "metadata": {},
   "outputs": [],
   "source": [
    "\n",
    "flat_df['place_id'] = flat_df['place_name'].apply(name_to_id)"
   ]
  },
  {
   "cell_type": "code",
   "execution_count": 39,
   "id": "b61c643a",
   "metadata": {},
   "outputs": [
    {
     "data": {
      "application/vnd.microsoft.datawrangler.viewer.v0+json": {
       "columns": [
        {
         "name": "index",
         "rawType": "int64",
         "type": "integer"
        },
        {
         "name": "package",
         "rawType": "int64",
         "type": "integer"
        },
        {
         "name": "city",
         "rawType": "object",
         "type": "string"
        },
        {
         "name": "place_name",
         "rawType": "object",
         "type": "string"
        },
        {
         "name": "place_id",
         "rawType": "float64",
         "type": "float"
        }
       ],
       "ref": "28e698e5-8633-49e3-81dc-daa21b1596f4",
       "rows": [
        [
         "102",
         "3",
         "Jakarta",
         "Monas",
         null
        ],
        [
         "130",
         "31",
         "Yogyakarta",
         "Taman Pelangi Jogja",
         null
        ],
        [
         "207",
         "8",
         "Jakarta",
         "Monas",
         null
        ],
        [
         "267",
         "68",
         "Semarang",
         "Semarang Gallery",
         null
        ],
        [
         "431",
         "32",
         "Yogyakarta",
         "Wisata Kalibiru",
         null
        ],
        [
         "451",
         "52",
         "Bandung",
         "Stone Garden Geopark",
         null
        ],
        [
         "452",
         "53",
         "Bandung",
         "Ade Irma Suryani Nasution Traffic Park",
         null
        ]
       ],
       "shape": {
        "columns": 4,
        "rows": 7
       }
      },
      "text/html": [
       "<div>\n",
       "<style scoped>\n",
       "    .dataframe tbody tr th:only-of-type {\n",
       "        vertical-align: middle;\n",
       "    }\n",
       "\n",
       "    .dataframe tbody tr th {\n",
       "        vertical-align: top;\n",
       "    }\n",
       "\n",
       "    .dataframe thead th {\n",
       "        text-align: right;\n",
       "    }\n",
       "</style>\n",
       "<table border=\"1\" class=\"dataframe\">\n",
       "  <thead>\n",
       "    <tr style=\"text-align: right;\">\n",
       "      <th></th>\n",
       "      <th>package</th>\n",
       "      <th>city</th>\n",
       "      <th>place_name</th>\n",
       "      <th>place_id</th>\n",
       "    </tr>\n",
       "  </thead>\n",
       "  <tbody>\n",
       "    <tr>\n",
       "      <th>102</th>\n",
       "      <td>3</td>\n",
       "      <td>Jakarta</td>\n",
       "      <td>Monas</td>\n",
       "      <td>NaN</td>\n",
       "    </tr>\n",
       "    <tr>\n",
       "      <th>130</th>\n",
       "      <td>31</td>\n",
       "      <td>Yogyakarta</td>\n",
       "      <td>Taman Pelangi Jogja</td>\n",
       "      <td>NaN</td>\n",
       "    </tr>\n",
       "    <tr>\n",
       "      <th>207</th>\n",
       "      <td>8</td>\n",
       "      <td>Jakarta</td>\n",
       "      <td>Monas</td>\n",
       "      <td>NaN</td>\n",
       "    </tr>\n",
       "    <tr>\n",
       "      <th>267</th>\n",
       "      <td>68</td>\n",
       "      <td>Semarang</td>\n",
       "      <td>Semarang Gallery</td>\n",
       "      <td>NaN</td>\n",
       "    </tr>\n",
       "    <tr>\n",
       "      <th>431</th>\n",
       "      <td>32</td>\n",
       "      <td>Yogyakarta</td>\n",
       "      <td>Wisata Kalibiru</td>\n",
       "      <td>NaN</td>\n",
       "    </tr>\n",
       "    <tr>\n",
       "      <th>451</th>\n",
       "      <td>52</td>\n",
       "      <td>Bandung</td>\n",
       "      <td>Stone Garden Geopark</td>\n",
       "      <td>NaN</td>\n",
       "    </tr>\n",
       "    <tr>\n",
       "      <th>452</th>\n",
       "      <td>53</td>\n",
       "      <td>Bandung</td>\n",
       "      <td>Ade Irma Suryani Nasution Traffic Park</td>\n",
       "      <td>NaN</td>\n",
       "    </tr>\n",
       "  </tbody>\n",
       "</table>\n",
       "</div>"
      ],
      "text/plain": [
       "     package        city                              place_name  place_id\n",
       "102        3     Jakarta                                   Monas       NaN\n",
       "130       31  Yogyakarta                     Taman Pelangi Jogja       NaN\n",
       "207        8     Jakarta                                   Monas       NaN\n",
       "267       68    Semarang                        Semarang Gallery       NaN\n",
       "431       32  Yogyakarta                         Wisata Kalibiru       NaN\n",
       "451       52     Bandung                    Stone Garden Geopark       NaN\n",
       "452       53     Bandung  Ade Irma Suryani Nasution Traffic Park       NaN"
      ]
     },
     "execution_count": 39,
     "metadata": {},
     "output_type": "execute_result"
    }
   ],
   "source": [
    "flat_df[flat_df['place_id'].isna()]"
   ]
  },
  {
   "cell_type": "code",
   "execution_count": 40,
   "id": "a20e2886",
   "metadata": {},
   "outputs": [
    {
     "name": "stdout",
     "output_type": "stream",
     "text": [
      "Similar place names: ['Gunung Tangkuban Perahu', 'Gunung Manglayang', 'Watu Gunung Ungaran', 'Gunung Papandayan', 'Gunung Lalakon']\n"
     ]
    }
   ],
   "source": [
    "# Get all place names\n",
    "place_names = df[\"tourism_with_id\"][\"Place_Name\"].tolist()\n",
    "\n",
    "# Find close matches\n",
    "similar = difflib.get_close_matches(\"Gunung Tangkuban Perahu\", place_names, n=5, cutoff=0.5)\n",
    "print(\"Similar place names:\", similar)"
   ]
  },
  {
   "cell_type": "code",
   "execution_count": 137,
   "id": "875cb383",
   "metadata": {},
   "outputs": [
    {
     "data": {
      "application/vnd.microsoft.datawrangler.viewer.v0+json": {
       "columns": [
        {
         "name": "index",
         "rawType": "int64",
         "type": "integer"
        },
        {
         "name": "Place_Id",
         "rawType": "int64",
         "type": "integer"
        },
        {
         "name": "Place_Name",
         "rawType": "object",
         "type": "string"
        },
        {
         "name": "Description",
         "rawType": "object",
         "type": "string"
        },
        {
         "name": "Category",
         "rawType": "object",
         "type": "string"
        },
        {
         "name": "City",
         "rawType": "object",
         "type": "string"
        },
        {
         "name": "Price",
         "rawType": "int64",
         "type": "integer"
        },
        {
         "name": "Rating",
         "rawType": "float64",
         "type": "float"
        },
        {
         "name": "Time_Minutes",
         "rawType": "float64",
         "type": "float"
        },
        {
         "name": "Coordinate",
         "rawType": "object",
         "type": "string"
        },
        {
         "name": "Lat",
         "rawType": "float64",
         "type": "float"
        },
        {
         "name": "Long",
         "rawType": "float64",
         "type": "float"
        },
        {
         "name": "Unnamed: 11",
         "rawType": "float64",
         "type": "float"
        },
        {
         "name": "Unnamed: 12",
         "rawType": "int64",
         "type": "integer"
        },
        {
         "name": "Province",
         "rawType": "object",
         "type": "string"
        }
       ],
       "ref": "304f363c-904c-4520-a0db-0cb84980ff9a",
       "rows": [],
       "shape": {
        "columns": 14,
        "rows": 0
       }
      },
      "text/html": [
       "<div>\n",
       "<style scoped>\n",
       "    .dataframe tbody tr th:only-of-type {\n",
       "        vertical-align: middle;\n",
       "    }\n",
       "\n",
       "    .dataframe tbody tr th {\n",
       "        vertical-align: top;\n",
       "    }\n",
       "\n",
       "    .dataframe thead th {\n",
       "        text-align: right;\n",
       "    }\n",
       "</style>\n",
       "<table border=\"1\" class=\"dataframe\">\n",
       "  <thead>\n",
       "    <tr style=\"text-align: right;\">\n",
       "      <th></th>\n",
       "      <th>Place_Id</th>\n",
       "      <th>Place_Name</th>\n",
       "      <th>Description</th>\n",
       "      <th>Category</th>\n",
       "      <th>City</th>\n",
       "      <th>Price</th>\n",
       "      <th>Rating</th>\n",
       "      <th>Time_Minutes</th>\n",
       "      <th>Coordinate</th>\n",
       "      <th>Lat</th>\n",
       "      <th>Long</th>\n",
       "      <th>Unnamed: 11</th>\n",
       "      <th>Unnamed: 12</th>\n",
       "      <th>Province</th>\n",
       "    </tr>\n",
       "  </thead>\n",
       "  <tbody>\n",
       "  </tbody>\n",
       "</table>\n",
       "</div>"
      ],
      "text/plain": [
       "Empty DataFrame\n",
       "Columns: [Place_Id, Place_Name, Description, Category, City, Price, Rating, Time_Minutes, Coordinate, Lat, Long, Unnamed: 11, Unnamed: 12, Province]\n",
       "Index: []"
      ]
     },
     "execution_count": 137,
     "metadata": {},
     "output_type": "execute_result"
    }
   ],
   "source": [
    "#Fix gunung tangkuban perahu\n",
    "df[\"tourism_with_id\"].query(\"Place_Name == 'GunungTangkuban perahu'\") "
   ]
  },
  {
   "cell_type": "code",
   "execution_count": 41,
   "id": "bb5d4eae",
   "metadata": {},
   "outputs": [],
   "source": [
    "df['tourism_with_id'].at[210, 'Place_Name'] = 'Gunung Tangkuban Perahu'\n"
   ]
  },
  {
   "cell_type": "code",
   "execution_count": 42,
   "id": "57486bc0",
   "metadata": {},
   "outputs": [],
   "source": [
    "flat_df['place_id'] = flat_df['place_name'].apply(name_to_id)"
   ]
  },
  {
   "cell_type": "code",
   "execution_count": 43,
   "id": "a6f4c265",
   "metadata": {},
   "outputs": [
    {
     "data": {
      "application/vnd.microsoft.datawrangler.viewer.v0+json": {
       "columns": [
        {
         "name": "index",
         "rawType": "int64",
         "type": "integer"
        },
        {
         "name": "package",
         "rawType": "int64",
         "type": "integer"
        },
        {
         "name": "city",
         "rawType": "object",
         "type": "string"
        },
        {
         "name": "place_name",
         "rawType": "object",
         "type": "string"
        },
        {
         "name": "place_id",
         "rawType": "float64",
         "type": "float"
        }
       ],
       "ref": "8096af7d-9909-481d-ad73-e87c0e8b1df8",
       "rows": [
        [
         "102",
         "3",
         "Jakarta",
         "Monas",
         null
        ],
        [
         "130",
         "31",
         "Yogyakarta",
         "Taman Pelangi Jogja",
         null
        ],
        [
         "207",
         "8",
         "Jakarta",
         "Monas",
         null
        ],
        [
         "267",
         "68",
         "Semarang",
         "Semarang Gallery",
         null
        ],
        [
         "431",
         "32",
         "Yogyakarta",
         "Wisata Kalibiru",
         null
        ],
        [
         "451",
         "52",
         "Bandung",
         "Stone Garden Geopark",
         null
        ],
        [
         "452",
         "53",
         "Bandung",
         "Ade Irma Suryani Nasution Traffic Park",
         null
        ]
       ],
       "shape": {
        "columns": 4,
        "rows": 7
       }
      },
      "text/html": [
       "<div>\n",
       "<style scoped>\n",
       "    .dataframe tbody tr th:only-of-type {\n",
       "        vertical-align: middle;\n",
       "    }\n",
       "\n",
       "    .dataframe tbody tr th {\n",
       "        vertical-align: top;\n",
       "    }\n",
       "\n",
       "    .dataframe thead th {\n",
       "        text-align: right;\n",
       "    }\n",
       "</style>\n",
       "<table border=\"1\" class=\"dataframe\">\n",
       "  <thead>\n",
       "    <tr style=\"text-align: right;\">\n",
       "      <th></th>\n",
       "      <th>package</th>\n",
       "      <th>city</th>\n",
       "      <th>place_name</th>\n",
       "      <th>place_id</th>\n",
       "    </tr>\n",
       "  </thead>\n",
       "  <tbody>\n",
       "    <tr>\n",
       "      <th>102</th>\n",
       "      <td>3</td>\n",
       "      <td>Jakarta</td>\n",
       "      <td>Monas</td>\n",
       "      <td>NaN</td>\n",
       "    </tr>\n",
       "    <tr>\n",
       "      <th>130</th>\n",
       "      <td>31</td>\n",
       "      <td>Yogyakarta</td>\n",
       "      <td>Taman Pelangi Jogja</td>\n",
       "      <td>NaN</td>\n",
       "    </tr>\n",
       "    <tr>\n",
       "      <th>207</th>\n",
       "      <td>8</td>\n",
       "      <td>Jakarta</td>\n",
       "      <td>Monas</td>\n",
       "      <td>NaN</td>\n",
       "    </tr>\n",
       "    <tr>\n",
       "      <th>267</th>\n",
       "      <td>68</td>\n",
       "      <td>Semarang</td>\n",
       "      <td>Semarang Gallery</td>\n",
       "      <td>NaN</td>\n",
       "    </tr>\n",
       "    <tr>\n",
       "      <th>431</th>\n",
       "      <td>32</td>\n",
       "      <td>Yogyakarta</td>\n",
       "      <td>Wisata Kalibiru</td>\n",
       "      <td>NaN</td>\n",
       "    </tr>\n",
       "    <tr>\n",
       "      <th>451</th>\n",
       "      <td>52</td>\n",
       "      <td>Bandung</td>\n",
       "      <td>Stone Garden Geopark</td>\n",
       "      <td>NaN</td>\n",
       "    </tr>\n",
       "    <tr>\n",
       "      <th>452</th>\n",
       "      <td>53</td>\n",
       "      <td>Bandung</td>\n",
       "      <td>Ade Irma Suryani Nasution Traffic Park</td>\n",
       "      <td>NaN</td>\n",
       "    </tr>\n",
       "  </tbody>\n",
       "</table>\n",
       "</div>"
      ],
      "text/plain": [
       "     package        city                              place_name  place_id\n",
       "102        3     Jakarta                                   Monas       NaN\n",
       "130       31  Yogyakarta                     Taman Pelangi Jogja       NaN\n",
       "207        8     Jakarta                                   Monas       NaN\n",
       "267       68    Semarang                        Semarang Gallery       NaN\n",
       "431       32  Yogyakarta                         Wisata Kalibiru       NaN\n",
       "451       52     Bandung                    Stone Garden Geopark       NaN\n",
       "452       53     Bandung  Ade Irma Suryani Nasution Traffic Park       NaN"
      ]
     },
     "execution_count": 43,
     "metadata": {},
     "output_type": "execute_result"
    }
   ],
   "source": [
    "flat_df[flat_df['place_id'].isna()]"
   ]
  },
  {
   "cell_type": "code",
   "execution_count": 44,
   "id": "0b85518a",
   "metadata": {},
   "outputs": [
    {
     "name": "stdout",
     "output_type": "stream",
     "text": [
      "Similar place names: ['Monumen Sanapati', 'Monumen Nasional', 'Monumen Kapal Selam', 'Monumen Yogya Kembali', 'Monumen Tugu Pahlawan']\n"
     ]
    }
   ],
   "source": [
    "similar = difflib.get_close_matches(\"Monumen\", place_names, n=5, cutoff=0.5)\n",
    "print(\"Similar place names:\", similar)"
   ]
  },
  {
   "cell_type": "code",
   "execution_count": 45,
   "id": "4af0b744",
   "metadata": {},
   "outputs": [
    {
     "data": {
      "application/vnd.microsoft.datawrangler.viewer.v0+json": {
       "columns": [
        {
         "name": "index",
         "rawType": "int64",
         "type": "integer"
        },
        {
         "name": "package",
         "rawType": "int64",
         "type": "integer"
        },
        {
         "name": "city",
         "rawType": "object",
         "type": "string"
        },
        {
         "name": "place_name",
         "rawType": "object",
         "type": "string"
        },
        {
         "name": "place_id",
         "rawType": "float64",
         "type": "float"
        }
       ],
       "ref": "8702cd38-3659-413a-872f-4bbd36b62de3",
       "rows": [
        [
         "130",
         "31",
         "Yogyakarta",
         "Taman Pelangi Jogja",
         null
        ],
        [
         "267",
         "68",
         "Semarang",
         "Semarang Gallery",
         null
        ],
        [
         "431",
         "32",
         "Yogyakarta",
         "Wisata Kalibiru",
         null
        ],
        [
         "451",
         "52",
         "Bandung",
         "Stone Garden Geopark",
         null
        ],
        [
         "452",
         "53",
         "Bandung",
         "Ade Irma Suryani Nasution Traffic Park",
         null
        ]
       ],
       "shape": {
        "columns": 4,
        "rows": 5
       }
      },
      "text/html": [
       "<div>\n",
       "<style scoped>\n",
       "    .dataframe tbody tr th:only-of-type {\n",
       "        vertical-align: middle;\n",
       "    }\n",
       "\n",
       "    .dataframe tbody tr th {\n",
       "        vertical-align: top;\n",
       "    }\n",
       "\n",
       "    .dataframe thead th {\n",
       "        text-align: right;\n",
       "    }\n",
       "</style>\n",
       "<table border=\"1\" class=\"dataframe\">\n",
       "  <thead>\n",
       "    <tr style=\"text-align: right;\">\n",
       "      <th></th>\n",
       "      <th>package</th>\n",
       "      <th>city</th>\n",
       "      <th>place_name</th>\n",
       "      <th>place_id</th>\n",
       "    </tr>\n",
       "  </thead>\n",
       "  <tbody>\n",
       "    <tr>\n",
       "      <th>130</th>\n",
       "      <td>31</td>\n",
       "      <td>Yogyakarta</td>\n",
       "      <td>Taman Pelangi Jogja</td>\n",
       "      <td>NaN</td>\n",
       "    </tr>\n",
       "    <tr>\n",
       "      <th>267</th>\n",
       "      <td>68</td>\n",
       "      <td>Semarang</td>\n",
       "      <td>Semarang Gallery</td>\n",
       "      <td>NaN</td>\n",
       "    </tr>\n",
       "    <tr>\n",
       "      <th>431</th>\n",
       "      <td>32</td>\n",
       "      <td>Yogyakarta</td>\n",
       "      <td>Wisata Kalibiru</td>\n",
       "      <td>NaN</td>\n",
       "    </tr>\n",
       "    <tr>\n",
       "      <th>451</th>\n",
       "      <td>52</td>\n",
       "      <td>Bandung</td>\n",
       "      <td>Stone Garden Geopark</td>\n",
       "      <td>NaN</td>\n",
       "    </tr>\n",
       "    <tr>\n",
       "      <th>452</th>\n",
       "      <td>53</td>\n",
       "      <td>Bandung</td>\n",
       "      <td>Ade Irma Suryani Nasution Traffic Park</td>\n",
       "      <td>NaN</td>\n",
       "    </tr>\n",
       "  </tbody>\n",
       "</table>\n",
       "</div>"
      ],
      "text/plain": [
       "     package        city                              place_name  place_id\n",
       "130       31  Yogyakarta                     Taman Pelangi Jogja       NaN\n",
       "267       68    Semarang                        Semarang Gallery       NaN\n",
       "431       32  Yogyakarta                         Wisata Kalibiru       NaN\n",
       "451       52     Bandung                    Stone Garden Geopark       NaN\n",
       "452       53     Bandung  Ade Irma Suryani Nasution Traffic Park       NaN"
      ]
     },
     "execution_count": 45,
     "metadata": {},
     "output_type": "execute_result"
    }
   ],
   "source": [
    "flat_df.at[102, 'place_name'] = 'Monumen Nasional'\n",
    "flat_df.at[207, 'place_name'] = 'Monumen Nasional'\n",
    "flat_df['place_id'] = flat_df['place_name'].apply(name_to_id)\n",
    "flat_df[flat_df['place_id'].isna()]"
   ]
  },
  {
   "cell_type": "code",
   "execution_count": 46,
   "id": "f4751f03",
   "metadata": {},
   "outputs": [
    {
     "data": {
      "text/plain": [
       "np.int64(98)"
      ]
     },
     "execution_count": 46,
     "metadata": {},
     "output_type": "execute_result"
    }
   ],
   "source": [
    "name_to_id(\"Taman Pelangi Yogyakarta\")"
   ]
  },
  {
   "cell_type": "code",
   "execution_count": 47,
   "id": "f9282da3",
   "metadata": {},
   "outputs": [
    {
     "name": "stdout",
     "output_type": "stream",
     "text": [
      "Similar place names: ['Taman Pelangi', 'Taman Pelangi Yogyakarta', 'Kampung Pelangi', 'Taman Lansia', 'Taman Begonia']\n"
     ]
    },
    {
     "data": {
      "application/vnd.microsoft.datawrangler.viewer.v0+json": {
       "columns": [
        {
         "name": "index",
         "rawType": "int64",
         "type": "integer"
        },
        {
         "name": "package",
         "rawType": "int64",
         "type": "integer"
        },
        {
         "name": "city",
         "rawType": "object",
         "type": "string"
        },
        {
         "name": "place_name",
         "rawType": "object",
         "type": "string"
        },
        {
         "name": "place_id",
         "rawType": "float64",
         "type": "float"
        }
       ],
       "ref": "601280a3-4c59-4239-b021-d3aae7d88094",
       "rows": [
        [
         "267",
         "68",
         "Semarang",
         "Semarang Gallery",
         null
        ],
        [
         "431",
         "32",
         "Yogyakarta",
         "Wisata Kalibiru",
         null
        ],
        [
         "451",
         "52",
         "Bandung",
         "Stone Garden Geopark",
         null
        ],
        [
         "452",
         "53",
         "Bandung",
         "Ade Irma Suryani Nasution Traffic Park",
         null
        ]
       ],
       "shape": {
        "columns": 4,
        "rows": 4
       }
      },
      "text/html": [
       "<div>\n",
       "<style scoped>\n",
       "    .dataframe tbody tr th:only-of-type {\n",
       "        vertical-align: middle;\n",
       "    }\n",
       "\n",
       "    .dataframe tbody tr th {\n",
       "        vertical-align: top;\n",
       "    }\n",
       "\n",
       "    .dataframe thead th {\n",
       "        text-align: right;\n",
       "    }\n",
       "</style>\n",
       "<table border=\"1\" class=\"dataframe\">\n",
       "  <thead>\n",
       "    <tr style=\"text-align: right;\">\n",
       "      <th></th>\n",
       "      <th>package</th>\n",
       "      <th>city</th>\n",
       "      <th>place_name</th>\n",
       "      <th>place_id</th>\n",
       "    </tr>\n",
       "  </thead>\n",
       "  <tbody>\n",
       "    <tr>\n",
       "      <th>267</th>\n",
       "      <td>68</td>\n",
       "      <td>Semarang</td>\n",
       "      <td>Semarang Gallery</td>\n",
       "      <td>NaN</td>\n",
       "    </tr>\n",
       "    <tr>\n",
       "      <th>431</th>\n",
       "      <td>32</td>\n",
       "      <td>Yogyakarta</td>\n",
       "      <td>Wisata Kalibiru</td>\n",
       "      <td>NaN</td>\n",
       "    </tr>\n",
       "    <tr>\n",
       "      <th>451</th>\n",
       "      <td>52</td>\n",
       "      <td>Bandung</td>\n",
       "      <td>Stone Garden Geopark</td>\n",
       "      <td>NaN</td>\n",
       "    </tr>\n",
       "    <tr>\n",
       "      <th>452</th>\n",
       "      <td>53</td>\n",
       "      <td>Bandung</td>\n",
       "      <td>Ade Irma Suryani Nasution Traffic Park</td>\n",
       "      <td>NaN</td>\n",
       "    </tr>\n",
       "  </tbody>\n",
       "</table>\n",
       "</div>"
      ],
      "text/plain": [
       "     package        city                              place_name  place_id\n",
       "267       68    Semarang                        Semarang Gallery       NaN\n",
       "431       32  Yogyakarta                         Wisata Kalibiru       NaN\n",
       "451       52     Bandung                    Stone Garden Geopark       NaN\n",
       "452       53     Bandung  Ade Irma Suryani Nasution Traffic Park       NaN"
      ]
     },
     "execution_count": 47,
     "metadata": {},
     "output_type": "execute_result"
    }
   ],
   "source": [
    "similar = difflib.get_close_matches(\"Taman Pelangi Jogja\", place_names, n=5, cutoff=0.5)\n",
    "print(\"Similar place names:\", similar)\n",
    "flat_df.at[130, 'place_name'] = 'Taman Pelangi Yogyakarta'\n",
    "flat_df['place_id'] = flat_df['place_name'].apply(name_to_id)\n",
    "flat_df[flat_df['place_id'].isna()]"
   ]
  },
  {
   "cell_type": "code",
   "execution_count": 48,
   "id": "e5a274c1",
   "metadata": {},
   "outputs": [
    {
     "name": "stdout",
     "output_type": "stream",
     "text": [
      "Similar place names: ['Semarang Contemporary Art Gallery', 'Semarang Chinatown', 'Taman Cattleya', 'Jembatan Merah']\n"
     ]
    },
    {
     "data": {
      "application/vnd.microsoft.datawrangler.viewer.v0+json": {
       "columns": [
        {
         "name": "index",
         "rawType": "int64",
         "type": "integer"
        },
        {
         "name": "package",
         "rawType": "int64",
         "type": "integer"
        },
        {
         "name": "city",
         "rawType": "object",
         "type": "string"
        },
        {
         "name": "place_name",
         "rawType": "object",
         "type": "string"
        },
        {
         "name": "place_id",
         "rawType": "float64",
         "type": "float"
        }
       ],
       "ref": "366cc1b3-fa27-401e-bfaf-f0c3fc63e47b",
       "rows": [
        [
         "431",
         "32",
         "Yogyakarta",
         "Wisata Kalibiru",
         null
        ],
        [
         "451",
         "52",
         "Bandung",
         "Stone Garden Geopark",
         null
        ],
        [
         "452",
         "53",
         "Bandung",
         "Ade Irma Suryani Nasution Traffic Park",
         null
        ]
       ],
       "shape": {
        "columns": 4,
        "rows": 3
       }
      },
      "text/html": [
       "<div>\n",
       "<style scoped>\n",
       "    .dataframe tbody tr th:only-of-type {\n",
       "        vertical-align: middle;\n",
       "    }\n",
       "\n",
       "    .dataframe tbody tr th {\n",
       "        vertical-align: top;\n",
       "    }\n",
       "\n",
       "    .dataframe thead th {\n",
       "        text-align: right;\n",
       "    }\n",
       "</style>\n",
       "<table border=\"1\" class=\"dataframe\">\n",
       "  <thead>\n",
       "    <tr style=\"text-align: right;\">\n",
       "      <th></th>\n",
       "      <th>package</th>\n",
       "      <th>city</th>\n",
       "      <th>place_name</th>\n",
       "      <th>place_id</th>\n",
       "    </tr>\n",
       "  </thead>\n",
       "  <tbody>\n",
       "    <tr>\n",
       "      <th>431</th>\n",
       "      <td>32</td>\n",
       "      <td>Yogyakarta</td>\n",
       "      <td>Wisata Kalibiru</td>\n",
       "      <td>NaN</td>\n",
       "    </tr>\n",
       "    <tr>\n",
       "      <th>451</th>\n",
       "      <td>52</td>\n",
       "      <td>Bandung</td>\n",
       "      <td>Stone Garden Geopark</td>\n",
       "      <td>NaN</td>\n",
       "    </tr>\n",
       "    <tr>\n",
       "      <th>452</th>\n",
       "      <td>53</td>\n",
       "      <td>Bandung</td>\n",
       "      <td>Ade Irma Suryani Nasution Traffic Park</td>\n",
       "      <td>NaN</td>\n",
       "    </tr>\n",
       "  </tbody>\n",
       "</table>\n",
       "</div>"
      ],
      "text/plain": [
       "     package        city                              place_name  place_id\n",
       "431       32  Yogyakarta                         Wisata Kalibiru       NaN\n",
       "451       52     Bandung                    Stone Garden Geopark       NaN\n",
       "452       53     Bandung  Ade Irma Suryani Nasution Traffic Park       NaN"
      ]
     },
     "execution_count": 48,
     "metadata": {},
     "output_type": "execute_result"
    }
   ],
   "source": [
    "similar = difflib.get_close_matches(\"Semarang Gallery\", place_names, n=5, cutoff=0.5)\n",
    "print(\"Similar place names:\", similar)\n",
    "flat_df.at[267, 'place_name'] = 'Semarang Contemporary Art Gallery'\n",
    "flat_df['place_id'] = flat_df['place_name'].apply(name_to_id)\n",
    "flat_df[flat_df['place_id'].isna()]"
   ]
  },
  {
   "cell_type": "code",
   "execution_count": 49,
   "id": "0cb0381a",
   "metadata": {},
   "outputs": [
    {
     "name": "stdout",
     "output_type": "stream",
     "text": [
      "Similar place names: ['Wisata Alam Kalibiru', 'Wisata Kaliurang', 'Wisata Lereng Kelir', 'Desa Wisata Kelor', 'Wisata Eling Bening']\n"
     ]
    },
    {
     "data": {
      "application/vnd.microsoft.datawrangler.viewer.v0+json": {
       "columns": [
        {
         "name": "index",
         "rawType": "int64",
         "type": "integer"
        },
        {
         "name": "package",
         "rawType": "int64",
         "type": "integer"
        },
        {
         "name": "city",
         "rawType": "object",
         "type": "string"
        },
        {
         "name": "place_name",
         "rawType": "object",
         "type": "string"
        },
        {
         "name": "place_id",
         "rawType": "float64",
         "type": "float"
        }
       ],
       "ref": "3f8bff13-ed5b-4c68-a735-3065f9c257e6",
       "rows": [
        [
         "451",
         "52",
         "Bandung",
         "Stone Garden Geopark",
         null
        ],
        [
         "452",
         "53",
         "Bandung",
         "Ade Irma Suryani Nasution Traffic Park",
         null
        ]
       ],
       "shape": {
        "columns": 4,
        "rows": 2
       }
      },
      "text/html": [
       "<div>\n",
       "<style scoped>\n",
       "    .dataframe tbody tr th:only-of-type {\n",
       "        vertical-align: middle;\n",
       "    }\n",
       "\n",
       "    .dataframe tbody tr th {\n",
       "        vertical-align: top;\n",
       "    }\n",
       "\n",
       "    .dataframe thead th {\n",
       "        text-align: right;\n",
       "    }\n",
       "</style>\n",
       "<table border=\"1\" class=\"dataframe\">\n",
       "  <thead>\n",
       "    <tr style=\"text-align: right;\">\n",
       "      <th></th>\n",
       "      <th>package</th>\n",
       "      <th>city</th>\n",
       "      <th>place_name</th>\n",
       "      <th>place_id</th>\n",
       "    </tr>\n",
       "  </thead>\n",
       "  <tbody>\n",
       "    <tr>\n",
       "      <th>451</th>\n",
       "      <td>52</td>\n",
       "      <td>Bandung</td>\n",
       "      <td>Stone Garden Geopark</td>\n",
       "      <td>NaN</td>\n",
       "    </tr>\n",
       "    <tr>\n",
       "      <th>452</th>\n",
       "      <td>53</td>\n",
       "      <td>Bandung</td>\n",
       "      <td>Ade Irma Suryani Nasution Traffic Park</td>\n",
       "      <td>NaN</td>\n",
       "    </tr>\n",
       "  </tbody>\n",
       "</table>\n",
       "</div>"
      ],
      "text/plain": [
       "     package     city                              place_name  place_id\n",
       "451       52  Bandung                    Stone Garden Geopark       NaN\n",
       "452       53  Bandung  Ade Irma Suryani Nasution Traffic Park       NaN"
      ]
     },
     "execution_count": 49,
     "metadata": {},
     "output_type": "execute_result"
    }
   ],
   "source": [
    "similar = difflib.get_close_matches(\"Wisata Kalibiru\", place_names, n=5, cutoff=0.5)\n",
    "print(\"Similar place names:\", similar)\n",
    "flat_df.at[431, 'place_name'] = 'Wisata Alam Kalibiru'\n",
    "flat_df['place_id'] = flat_df['place_name'].apply(name_to_id)\n",
    "flat_df[flat_df['place_id'].isna()]"
   ]
  },
  {
   "cell_type": "code",
   "execution_count": 50,
   "id": "36c9ea70",
   "metadata": {},
   "outputs": [
    {
     "name": "stdout",
     "output_type": "stream",
     "text": [
      "Similar place names: ['Stone Garden Citatah', 'Ocean Ecopark', 'Tektona Waterpark']\n"
     ]
    },
    {
     "data": {
      "application/vnd.microsoft.datawrangler.viewer.v0+json": {
       "columns": [
        {
         "name": "index",
         "rawType": "int64",
         "type": "integer"
        },
        {
         "name": "package",
         "rawType": "int64",
         "type": "integer"
        },
        {
         "name": "city",
         "rawType": "object",
         "type": "string"
        },
        {
         "name": "place_name",
         "rawType": "object",
         "type": "string"
        },
        {
         "name": "place_id",
         "rawType": "float64",
         "type": "float"
        }
       ],
       "ref": "06b32869-f7d8-43aa-a8d6-3cf751aac511",
       "rows": [
        [
         "452",
         "53",
         "Bandung",
         "Ade Irma Suryani Nasution Traffic Park",
         null
        ]
       ],
       "shape": {
        "columns": 4,
        "rows": 1
       }
      },
      "text/html": [
       "<div>\n",
       "<style scoped>\n",
       "    .dataframe tbody tr th:only-of-type {\n",
       "        vertical-align: middle;\n",
       "    }\n",
       "\n",
       "    .dataframe tbody tr th {\n",
       "        vertical-align: top;\n",
       "    }\n",
       "\n",
       "    .dataframe thead th {\n",
       "        text-align: right;\n",
       "    }\n",
       "</style>\n",
       "<table border=\"1\" class=\"dataframe\">\n",
       "  <thead>\n",
       "    <tr style=\"text-align: right;\">\n",
       "      <th></th>\n",
       "      <th>package</th>\n",
       "      <th>city</th>\n",
       "      <th>place_name</th>\n",
       "      <th>place_id</th>\n",
       "    </tr>\n",
       "  </thead>\n",
       "  <tbody>\n",
       "    <tr>\n",
       "      <th>452</th>\n",
       "      <td>53</td>\n",
       "      <td>Bandung</td>\n",
       "      <td>Ade Irma Suryani Nasution Traffic Park</td>\n",
       "      <td>NaN</td>\n",
       "    </tr>\n",
       "  </tbody>\n",
       "</table>\n",
       "</div>"
      ],
      "text/plain": [
       "     package     city                              place_name  place_id\n",
       "452       53  Bandung  Ade Irma Suryani Nasution Traffic Park       NaN"
      ]
     },
     "execution_count": 50,
     "metadata": {},
     "output_type": "execute_result"
    }
   ],
   "source": [
    "similar = difflib.get_close_matches(\"Stone Garden Geopark\", place_names, n=5, cutoff=0.5)\n",
    "print(\"Similar place names:\", similar)\n",
    "flat_df.at[451, 'place_name'] = 'Stone Garden Citatah'\n",
    "flat_df['place_id'] = flat_df['place_name'].apply(name_to_id)\n",
    "flat_df[flat_df['place_id'].isna()]"
   ]
  },
  {
   "cell_type": "code",
   "execution_count": 51,
   "id": "25d1927e",
   "metadata": {},
   "outputs": [
    {
     "name": "stdout",
     "output_type": "stream",
     "text": [
      "Similar place names: ['Taman Lalu Lintas Ade Irma Suryani Nasution']\n"
     ]
    },
    {
     "data": {
      "application/vnd.microsoft.datawrangler.viewer.v0+json": {
       "columns": [
        {
         "name": "index",
         "rawType": "int64",
         "type": "integer"
        },
        {
         "name": "package",
         "rawType": "int64",
         "type": "integer"
        },
        {
         "name": "city",
         "rawType": "object",
         "type": "string"
        },
        {
         "name": "place_name",
         "rawType": "object",
         "type": "string"
        },
        {
         "name": "place_id",
         "rawType": "int64",
         "type": "integer"
        }
       ],
       "ref": "0421de79-bb66-4900-8bfe-b542cc404d55",
       "rows": [],
       "shape": {
        "columns": 4,
        "rows": 0
       }
      },
      "text/html": [
       "<div>\n",
       "<style scoped>\n",
       "    .dataframe tbody tr th:only-of-type {\n",
       "        vertical-align: middle;\n",
       "    }\n",
       "\n",
       "    .dataframe tbody tr th {\n",
       "        vertical-align: top;\n",
       "    }\n",
       "\n",
       "    .dataframe thead th {\n",
       "        text-align: right;\n",
       "    }\n",
       "</style>\n",
       "<table border=\"1\" class=\"dataframe\">\n",
       "  <thead>\n",
       "    <tr style=\"text-align: right;\">\n",
       "      <th></th>\n",
       "      <th>package</th>\n",
       "      <th>city</th>\n",
       "      <th>place_name</th>\n",
       "      <th>place_id</th>\n",
       "    </tr>\n",
       "  </thead>\n",
       "  <tbody>\n",
       "  </tbody>\n",
       "</table>\n",
       "</div>"
      ],
      "text/plain": [
       "Empty DataFrame\n",
       "Columns: [package, city, place_name, place_id]\n",
       "Index: []"
      ]
     },
     "execution_count": 51,
     "metadata": {},
     "output_type": "execute_result"
    }
   ],
   "source": [
    "similar = difflib.get_close_matches(\"Ade Irma Suryani Nasution Traffic Park\", place_names, n=5, cutoff=0.5)\n",
    "print(\"Similar place names:\", similar)\n",
    "flat_df.at[452, 'place_name'] = 'Taman Lalu Lintas Ade Irma Suryani Nasution'\n",
    "flat_df['place_id'] = flat_df['place_name'].apply(name_to_id)\n",
    "flat_df[flat_df['place_id'].isna()]"
   ]
  },
  {
   "cell_type": "code",
   "execution_count": 52,
   "id": "6d54d26b",
   "metadata": {},
   "outputs": [
    {
     "data": {
      "text/plain": [
       "(403, 405)"
      ]
     },
     "execution_count": 52,
     "metadata": {},
     "output_type": "execute_result"
    }
   ],
   "source": [
    "len(flat_df.drop_duplicates()), len(flat_df)"
   ]
  },
  {
   "cell_type": "code",
   "execution_count": 53,
   "id": "d344f5c2",
   "metadata": {},
   "outputs": [],
   "source": [
    "tour_package_insert_sql = \"\"\"\n",
    "insert into public.tour_package (\n",
    "    tour_package_id,\n",
    "    place_id\n",
    ") values \n",
    "\"\"\"\n",
    "rows = []\n",
    "for _, row in flat_df.drop_duplicates().iterrows():\n",
    "    rows.append(\n",
    "        f\"({row['package']}, \"\n",
    "        f\"{row['place_id']}\"\n",
    "        \")\"\n",
    "    )\n",
    "values_str = \",\\n\".join(rows)\n",
    "\n",
    "with open(\"supabase/seeder/tour_package.sql\", \"w\") as f:\n",
    "    f.write(tour_package_insert_sql + values_str + \";\")\n"
   ]
  }
 ],
 "metadata": {
  "kernelspec": {
   "display_name": "supabase-python-seeder (3.12.11)",
   "language": "python",
   "name": "python3"
  },
  "language_info": {
   "codemirror_mode": {
    "name": "ipython",
    "version": 3
   },
   "file_extension": ".py",
   "mimetype": "text/x-python",
   "name": "python",
   "nbconvert_exporter": "python",
   "pygments_lexer": "ipython3",
   "version": "3.12.11"
  }
 },
 "nbformat": 4,
 "nbformat_minor": 5
}
